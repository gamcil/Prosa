{
 "cells": [
  {
   "cell_type": "code",
   "execution_count": 1,
   "id": "de06c26f",
   "metadata": {},
   "outputs": [],
   "source": [
    "import numpy as np\n",
    "import matplotlib.pyplot as plt\n",
    "import os.path\n",
    "from scipy.spatial.distance import cdist\n",
    "import time\n",
    "from tqdm import tqdm\n",
    "%load_ext autoreload\n",
    "%autoreload 1\n",
    "#%aimport __pycache__.lddt.cpython-39\n",
    "%aimport sautils.encoder_commons\n",
    "%aimport sautils.common\n",
    "import pandas as pd\n",
    "import numba\n",
    "from skopt import dump, load"
   ]
  },
  {
   "cell_type": "code",
   "execution_count": 2,
   "id": "07238247",
   "metadata": {},
   "outputs": [],
   "source": [
    "sid2seq_ss = {}\n",
    "with open('data/ss.fasta') as file:\n",
    "    sid = ''\n",
    "    for line in file:\n",
    "        line = line.lstrip('>').rstrip('\\n')\n",
    "        if not sid:\n",
    "            sid = line\n",
    "        else:\n",
    "            sid2seq_ss[sid] = line.upper()\n",
    "            sid = ''\n",
    "sid2seq_aa = {}\n",
    "with open('data/aa.fasta') as file:\n",
    "    sid = ''\n",
    "    for line in file:\n",
    "        line = line.lstrip('>').rstrip('\\n')\n",
    "        if not sid:\n",
    "            sid = line\n",
    "        else:\n",
    "            sid2seq_aa[sid] = line.upper()\n",
    "            sid = ''\n",
    "mat3di = np.load('data/mat3di.npy') * 2.1\n",
    "blosum = np.load('data/blosum62.npy') * 1.4\n",
    "with open('data/mat3di.out') as f:\n",
    "    lines = f.readlines()\n",
    "i2a = lines[3].split()\n",
    "def seq2num(q):\n",
    "    idx = []\n",
    "    for a in q:\n",
    "        idx.append(i2a.index(a))\n",
    "    return np.array(idx)\n",
    "    \n",
    "def calcS_np(ss1,ss2 ,aa1, aa2,mat3di, blosum):\n",
    "    ss1 = seq2num(ss1)\n",
    "    ss2 = seq2num(ss2)\n",
    "    aa1 = seq2num(aa1)\n",
    "    aa2 = seq2num(aa2)\n",
    "    comb_array_ss = np.array(np.meshgrid(ss1, ss2)).T.reshape(-1, 2)\n",
    "    comb_array_aa = np.array(np.meshgrid(aa1, aa2)).T.reshape(-1, 2)\n",
    "    S = (mat3di[comb_array_ss[:,0],comb_array_ss[:,1]].reshape(len(ss1),-1)) + blosum[comb_array_aa[:,0],comb_array_aa[:,1]].reshape(len(aa1),-1)\n",
    "    return S\n",
    "def distances(q_points_aln, t_points_aln):\n",
    "    d_mat = cdist(q_points_aln, t_points_aln)\n",
    "    return (d_mat)"
   ]
  },
  {
   "cell_type": "code",
   "execution_count": 3,
   "id": "aa9b43f2",
   "metadata": {},
   "outputs": [],
   "source": [
    "coord_dir = 'data/pdb/d*'\n",
    "if not os.path.exists(coord_dir):\n",
    "    print('Creating cache first.')\n",
    "    sautils.encoder_commons.init_coords('data/pdb/d*', coord_dir)\n",
    "sid2coords = {sid: sautils.encoder_commons.read_coords(coord_dir, sid) for sid in sautils.encoder_commons.list_sids(coord_dir)}"
   ]
  },
  {
   "cell_type": "code",
   "execution_count": 4,
   "id": "31f685ae",
   "metadata": {},
   "outputs": [],
   "source": [
    "@numba.jit(nopython=True)\n",
    "def fill_dp_matrix(scores, gap_open, gap_extend):\n",
    "    l1, l2 = scores.shape\n",
    "    s, q_gap, t_gap = np.zeros((l1+1, l2+1)), np.zeros((l1+1, l2+1)), np.zeros((l1+1, l2+1))\n",
    "    for i in range(1, l1+1):\n",
    "        for j in range(1, l2+1):\n",
    "            q_gap[i, j] = max(q_gap[i, j-1] - gap_extend, s[i, j-1] - gap_open)\n",
    "            t_gap[i, j] = max(t_gap[i-1, j] - gap_extend, s[i-1, j] - gap_open)\n",
    "            s[i, j] = max(0,\n",
    "                          q_gap[i, j],\n",
    "                          t_gap[i, j],\n",
    "                          s[i-1, j-1] + scores[i-1, j-1])\n",
    "    return s, q_gap, t_gap\n",
    "\n",
    "def backtrace_alignment(scores, gap_open, gap_extend, s, q_gap, t_gap):\n",
    "    S_MAT, QGAP_MAT, TGAP_MAT = 0, 1, 2\n",
    "    arg_max = np.where(s == s.max())\n",
    "    i, j, pos = arg_max[0][0], arg_max[1][0], S_MAT\n",
    "    backtrace = []\n",
    "    while (s[i, j] > 0 or pos != S_MAT) and (i > 0 and j > 0):\n",
    "        if pos == S_MAT:\n",
    "            if s[i, j] == q_gap[i, j]:\n",
    "                if q_gap[i,j] == q_gap[i, j-1] - gap_extend:\n",
    "                    pos = QGAP_MAT\n",
    "                j = j - 1       \n",
    "            elif s[i, j] == t_gap[i, j]:\n",
    "                if t_gap[i,j] == t_gap[i-1, j] - gap_extend:\n",
    "                    pos = TGAP_MAT\n",
    "                i = i - 1\n",
    "            elif s[i,j] == s[i-1, j-1] + scores[i-1, j-1]:\n",
    "                backtrace.append((i,j))\n",
    "                i, j = i - 1, j - 1                \n",
    "            else:\n",
    "                break        \n",
    "        elif pos == QGAP_MAT:\n",
    "            if q_gap[i, j] == s[i, j-1] - gap_open:\n",
    "                pos = S_MAT\n",
    "            j = j - 1\n",
    "            \n",
    "        elif pos == TGAP_MAT:\n",
    "            if t_gap[i, j] == s[i-1, j] - gap_open:\n",
    "                pos = S_MAT\n",
    "            i = i - 1\n",
    "    return list(reversed([(i-1, j-1) for i, j in backtrace]))\n",
    "\n",
    "def sw_align(scores, gap_open=30, gap_extend=10):    \n",
    "    s, q_gap, t_gap = fill_dp_matrix(scores, gap_open, gap_extend)\n",
    "    backtrace = backtrace_alignment(scores, gap_open, gap_extend, s, q_gap, t_gap)\n",
    "    return backtrace, (s, q_gap, t_gap)\n",
    "\n",
    "def format_aln(seq1, seq2, bt):\n",
    "    s1, s2 = '', ''\n",
    "    i_prev, j_prev = None, None\n",
    "    for i, j in bt:        \n",
    "        if i_prev is not None:\n",
    "            s1 += seq1[i_prev+1:i] + '-' * len(seq2[j_prev+1:j])\n",
    "            s2 += '-' * len(seq1[i_prev+1:i]) + seq2[j_prev+1:j]                \n",
    "        s1 += seq1[i]\n",
    "        s2 += seq2[j]\n",
    "        i_prev, j_prev = i, j\n",
    "    return s1, s2"
   ]
  },
  {
   "cell_type": "code",
   "execution_count": 5,
   "id": "bbda9d51",
   "metadata": {},
   "outputs": [],
   "source": [
    "def fb_local(S, go, ge, T, pre):\n",
    "    S_exp = np.exp(S/T, dtype = pre)\n",
    "    S_hat = S_exp[::-1,::-1]\n",
    "    vj = np.exp(np.linspace((S.shape[1]-1)*ge + go, go, S.shape[1], dtype = pre)/T, dtype = pre)\n",
    "    wj = np.exp(np.linspace((S.shape[1]-1)*ge , 0, S.shape[1], dtype = pre) /T, dtype = pre)\n",
    "    zm, ze, zf = forward_backward_plain_local(S_exp, vj, wj, T, go, ge, pre)\n",
    "    zm_hat, ze_hat, zf_hat = forward_backward_plain_local(S_hat, vj, wj, T, go, ge, pre)\n",
    "    P = ((zm*(zm_hat[::-1,::-1]))/(1 + np.sum(zm))) * np.exp(-S/T, dtype = pre)\n",
    "    return P\n",
    "    \n",
    "def fb_global(S, go, ge, T, pre):\n",
    "    S_exp = np.exp(S/T, dtype = pre)\n",
    "    S_hat = S_exp[::-1,::-1]\n",
    "\n",
    "    vj = np.exp(np.linspace((S.shape[1]-1)*ge + go, go, S.shape[1])/T, dtype = pre)\n",
    "    wj = np.exp(np.linspace((S.shape[1]-1)*ge , 0, S.shape[1]) /T, dtype = pre)\n",
    "    zm, ze, zf = forward_backward_plain_global(S_exp, vj, wj, T, go, ge, pre)\n",
    "    zm_hat, ze_hat, zf_hat = forward_backward_plain_global(S_hat, vj, wj, T, go, ge, pre)\n",
    "\n",
    "    P = (zm*(zm_hat[::-1,::-1]))/ (zm[-1,-1]+ze[-1,-1] +zf[-1,-1]) * np.exp(-S/T, dtype = pre)\n",
    "    \n",
    "    return P\n",
    "def fb_local_global(S, go, ge, T, pre):\n",
    "    S_exp = np.exp(S/T, dtype = pre)\n",
    "    S_hat = S_exp[::-1,::-1]\n",
    "\n",
    "    vj = np.exp(np.linspace((S.shape[1]-1)*ge + go, go, S.shape[1])/T, dtype = pre)\n",
    "    wj = np.exp(np.linspace((S.shape[1]-1)*ge , 0, S.shape[1]) /T, dtype = pre)\n",
    "    zm, ze, zf = forward_backward_plain_local(S_exp, vj, wj, T, go, ge, pre)\n",
    "    zm_hat, ze_hat, zf_hat = forward_backward_plain_global(S_hat, vj, wj, T, go, ge, pre)\n",
    "\n",
    "    P = (zm*(zm_hat[::-1,::-1]))/ (zm[-1,-1]+ze[-1,-1] +zf[-1,-1])* np.exp(-S/T, dtype = pre)\n",
    "    \n",
    "    return P\n",
    "    \n",
    "def fb_global_local(S, go, ge, T, pre):\n",
    "    S_exp = np.exp(S/T, dtype = pre)\n",
    "    S_hat = S_exp[::-1,::-1]\n",
    "\n",
    "    vj = np.exp(np.linspace((S.shape[1]-1)*ge + go, go, S.shape[1])/T, dtype = pre)\n",
    "    wj = np.exp(np.linspace((S.shape[1]-1)*ge , 0, S.shape[1]) /T, dtype = pre)\n",
    "    zm, ze, zf = forward_backward_plain_global(S_exp, vj, wj, T, go, ge, pre)\n",
    "    zm_hat, ze_hat, zf_hat = forward_backward_plain_local(S_hat, vj, wj, T, go, ge, pre)\n",
    "\n",
    "    P = (zm*(zm_hat[::-1,::-1]))/ np.sum(zm) * np.exp(-S/T)\n",
    "    \n",
    "    return P"
   ]
  },
  {
   "cell_type": "code",
   "execution_count": 6,
   "id": "c8a24095",
   "metadata": {},
   "outputs": [],
   "source": [
    "def forward_backward_plain_local(S, vj, wj, T, go, ge, pre):\n",
    "    exp_go = np.exp(go/T)\n",
    "    exp_ge = np.exp(ge/T)\n",
    "    zm = np.zeros((S.shape[0]+1, S.shape[1]+1), dtype = pre)\n",
    "    ze = np.zeros((S.shape[0]+1, S.shape[1]+1), dtype = pre)\n",
    "    zf = np.zeros((S.shape[0]+1, S.shape[1]+1), dtype = pre)\n",
    "    \n",
    "    #This is the main part where we calculate the Z matrices with one for loop over each row\n",
    "    for i in range(1,S.shape[0]+1):\n",
    "        zm[i,1:] = ((zm[i-1,:-1] + ze[i-1,:-1] + zf[i-1,:-1] + 1) *S[i-1,:])\n",
    "        # this is the new part where ze is calculated using cumsum \n",
    "        ze[i,1:] = (np.cumsum(zm[i,:-1] * vj)/wj) \n",
    "        zf[i,1:] = (zm[i-1,1:] * exp_go + zf[i-1,1:] * exp_ge)\n",
    "    #at the end we only need to return zm but for testing i returned all\n",
    "    return zm[1:,1:], ze[1:,1:], zf[1:,1:]\n",
    "\n",
    "def forward_backward_plain_global(S, vj, wj, T, go, ge, pre):\n",
    "    exp_go = np.exp(go/T)\n",
    "    exp_ge = np.exp(ge/T)\n",
    "    zm = np.zeros((S.shape[0]+1, S.shape[1]+1), dtype = pre)\n",
    "    ze = np.zeros((S.shape[0]+1, S.shape[1]+1), dtype = pre)\n",
    "    zf = np.zeros((S.shape[0]+1, S.shape[1]+1), dtype = pre)\n",
    "    \n",
    "    zm[0,0] = 1\n",
    "    ze[0,1:] = np.exp(np.linspace(go,go+(ge*(S.shape[1]-1)),S.shape[1])/T, dtype = pre)\n",
    "\n",
    "    #exp_ge_arr = np.exp((np.arange(ge, (S.shape[1] + 1)* ge ,ge,dtype = pre))/T, dtype = pre)\n",
    "                        \n",
    "    for i in range(1,S.shape[0]+1):\n",
    "        zm[i,1:] = (zm[i-1, :-1] + ze[i-1,:-1] + zf[i-1,:-1]) * S[i-1,:]\n",
    "        ze[i,1:] = (np.cumsum(zm[i,:-1] * vj)/wj) #+  * exp_ge_arr\n",
    "        zf[i,:] = zm[i-1,:] * exp_go + zf[i-1,:] * exp_ge\n",
    "    return zm[1:,1:], ze[1:,1:], zf[1:,1:]"
   ]
  },
  {
   "cell_type": "code",
   "execution_count": 7,
   "id": "5c448f9e",
   "metadata": {},
   "outputs": [],
   "source": [
    "def forward_backward_plain_local(S, vj, wj, T, go, ge, pre):\n",
    "    exp_go = np.exp(go/T)\n",
    "    exp_ge = np.exp(ge/T)\n",
    "    zm = np.zeros((S.shape[0]+1, S.shape[1]+1), dtype = pre)\n",
    "    ze = np.zeros((S.shape[0]+1, S.shape[1]+1), dtype = pre)\n",
    "    zf = np.zeros((S.shape[0]+1, S.shape[1]+1), dtype = pre)\n",
    "    \n",
    "    #This is the main part where we calculate the Z matrices with one for loop over each row\n",
    "    for i in range(1,S.shape[0]+1):\n",
    "        zm[i,1:] = ((zm[i-1,:-1] + ze[i-1,:-1] + zf[i-1,:-1] + 1) *S[i-1,:])\n",
    "        # this is the new part where ze is calculated using cumsum \n",
    "        ze[i,1:] = (np.cumsum(zm[i,:-1] * vj)/wj) \n",
    "        zf[i,1:] = (zm[i-1,1:] * exp_go + zf[i-1,1:] * exp_ge)\n",
    "    #at the end we only need to return zm but for testing i returned all\n",
    "    return zm[1:,1:], ze[1:,1:], zf[1:,1:]\n",
    "def fb_local(S, go, ge, T, pre):\n",
    "    S_exp = np.exp(S/T, dtype = pre)\n",
    "    S_hat = S_exp[::-1,::-1]\n",
    "\n",
    "    vj = np.exp(np.linspace((S.shape[1]-1)*ge + go, go, S.shape[1], dtype = pre)/T, dtype = pre)\n",
    "    wj = np.exp(np.linspace((S.shape[1]-1)*ge , 0, S.shape[1], dtype = pre) /T, dtype = pre)\n",
    "    #vj = np.exp(np.arange((S.shape[1]-1)*ge + go ,go-ge, -ge, dtype = pre)/T)\n",
    "    #wj = np.exp((np.arange((S.shape[1]-1)*ge , -ge, -ge, dtype = pre)) /T)\n",
    "    zm, ze, zf = forward_backward_plain_local(S_exp, vj, wj, T, go, ge, pre)\n",
    "    zm_hat, ze_hat, zf_hat = forward_backward_plain_local(S_hat, vj, wj, T, go, ge, pre)\n",
    "\n",
    "    P = ((zm*(zm_hat[::-1,::-1]))/(1 + np.sum(zm))) * np.exp(-S/T, dtype = pre)\n",
    "    \n",
    "    return P"
   ]
  },
  {
   "cell_type": "code",
   "execution_count": 8,
   "id": "c6ab8b50",
   "metadata": {},
   "outputs": [],
   "source": [
    "@numba.njit\n",
    "def lol_score_approx(d_ij, d_kl, d_seq):\n",
    "    seq_distance_feat = np.sign(d_seq) * np.log(1 + np.abs(d_seq))\n",
    "    x = np.empty((d_ij.shape[0],2))\n",
    "    x[:,0] = seq_distance_feat#[:, None]\n",
    "    x[:,1] = np.abs(d_ij-d_kl)#[:, None]\n",
    "    #x = np.hstack([seq_distance_feat[:, None], np.abs(d_ij-d_kl)[:, None],])\n",
    "\n",
    "    w1 = np.array([[-1.3584513e-04,  9.9329501e-01],\n",
    "                   [ 7.6149112e-01,  5.7029408e-01],\n",
    "                   [-8.1348085e-01,  6.0702705e-01]])\n",
    "    b1 = np.array([0.7043129 , 0.374659  , 0.39905924])\n",
    "    w2 = np.array([[-0.776632  ,  0.61055756,  0.5823986 ]])\n",
    "    b2 = np.array([-0.11200039])\n",
    "\n",
    "    hidden_layer = ((x @ w1.T) + b1)\n",
    "    hidden_layer *= (hidden_layer > 0)  # if w1 is all positive, we dont need this ReLU\n",
    "    score = (hidden_layer @ w2.T) + b2\n",
    "    return score"
   ]
  },
  {
   "cell_type": "code",
   "execution_count": 9,
   "id": "d816e92f",
   "metadata": {},
   "outputs": [],
   "source": [
    "def calc_startAnchors(S, fb_go, fb_ge, temp, le):\n",
    "    start_anchors = []\n",
    "    for i in range(10):\n",
    "        P = fb_local(S, fb_go, fb_ge, temp, np.longdouble)\n",
    "        x,y = np.unravel_index(np.argmax(P), P.shape)\n",
    "        x,y = np.max([0,x-le]), np.max([0,y-le])\n",
    "        #P -= np.max([0 ,np.max(P)-shift])\n",
    "        bt, (s, q_gap, t_gap) = sw_align(np.array(P[x:x+(le*2),y:y+(le*2)], dtype = np.double), gap_open = 0, gap_extend=0)\n",
    "        bt = np.array(bt)\n",
    "        bt[:,0] += x\n",
    "        bt[:,1] += y\n",
    "        start_anchors.append(np.copy(bt))\n",
    "        S[bt[:,0], bt[:,1]] = - 100\n",
    "    return start_anchors"
   ]
  },
  {
   "cell_type": "code",
   "execution_count": 10,
   "id": "6fa94e4f",
   "metadata": {},
   "outputs": [],
   "source": [
    "def get_gaps(A_all):\n",
    "    lowerBounds_i = (A_all[:,0]+1)[:-1]\n",
    "    upperBounds_i = (A_all[:,0]-1)[1:]\n",
    "    lowerBounds_k = (A_all[:,1]+1)[:-1]\n",
    "    upperBounds_k = (A_all[:,1]-1)[1:]\n",
    "    mask_i = lowerBounds_i<=upperBounds_i\n",
    "    mask_k = lowerBounds_k<=upperBounds_k\n",
    "    mask = np.logical_and(mask_i,  mask_k)\n",
    "    return np.array([np.sort(np.array([lowerBounds_i[mask],upperBounds_i[mask]+1]).reshape(-1)),\n",
    "                    np.sort(np.array([lowerBounds_k[mask],upperBounds_k[mask]+1]).reshape(-1))])"
   ]
  },
  {
   "cell_type": "code",
   "execution_count": 11,
   "id": "4a3e1c32",
   "metadata": {},
   "outputs": [],
   "source": [
    "\n",
    "def lol_matrix_gap_dist_aprox(A, All_a, gaps,d_mat_ij, d_mat_kl):\n",
    "\n",
    "    ti, tk, tidx = lol_matrix_prep_gaps(A, All_a, gaps, d_mat_ij, d_mat_kl)\n",
    "    idx = np.logical_and(ti > 0, tk > 0)\n",
    "    G_mat = np.zeros_like(ti)\n",
    "    G_mat[idx] += np.squeeze(np.nan_to_num(lol_score_approx(ti[idx], tk[idx], tidx[idx])))\n",
    "    return G_mat.reshape(gaps[0,1]-gaps[0,0], gaps[1,1]-gaps[1,0], -1).sum(axis=2)"
   ]
  },
  {
   "cell_type": "code",
   "execution_count": 12,
   "id": "7f02de9b",
   "metadata": {},
   "outputs": [],
   "source": [
    "def lol_matrix_prep_gaps(A, All_a, gaps,d_mat_ij, d_mat_kl):\n",
    "    #print(d_mat_ij[:,gaps[0,0]:gaps[0,1]].shape, d_mat_kl[:,gaps[1,0]:gaps[1,1]].shape)\n",
    "    d_ij, d_kl = np.array(d_mat_ij[A[:,0],gaps[0,0]:gaps[0,1]]), np.array(d_mat_kl[A[:,1],gaps[1,0]:gaps[1,1]])\n",
    "    ti = np.repeat(d_ij.T, gaps[1,1] - gaps[1,0], axis = 0).reshape(-1)\n",
    "    tk = np.repeat(d_kl.T.reshape(-1,1), gaps[0,1]-gaps[0,0], axis = 1).T.reshape(-1)\n",
    "    tidx = np.repeat(A[:,0].reshape(1,-1), d_ij.shape[1] * d_kl.shape[1], axis = 0).reshape(-1)\n",
    "    #print(ti.shape, tk.shape, tidx.shape, np.repeat(np.arange(gaps[0,0],gaps[0,1]), (gaps[1,1]-gaps[1,0]) * A.shape[0]).shape)\n",
    "    tidx = tidx - np.repeat(np.arange(gaps[0,0],gaps[0,1]), (gaps[1,1]-gaps[1,0]) * A.shape[0])\n",
    "\n",
    "    return ti, tk, tidx"
   ]
  },
  {
   "cell_type": "code",
   "execution_count": 13,
   "id": "c1fc5228",
   "metadata": {},
   "outputs": [],
   "source": [
    "def align(S, startAnchors, go, ge, min_m, red_m, temp, red_t, d_mat_ij, d_mat_kl):\n",
    "    S_all = []\n",
    "    ap_all = []\n",
    "    pre = np.longdouble\n",
    "    lol_matrix_prep = lol_matrix_prep_gaps\n",
    "    for j in range(10):\n",
    "        num_all = 0\n",
    "        th = .99\n",
    "        tempr = temp\n",
    "        S = np.zeros_like(S, dtype = pre)\n",
    "        A_new = startAnchors[j]\n",
    "        A_all = startAnchors[j]\n",
    "\n",
    "        for i in (range(1000)):\n",
    "            #S[A_all[:,0], A_all[:,1]] = 1e2\n",
    "            gaps_idn = get_gaps(np.unique(np.concatenate((np.array([-1,-1]).reshape(1,2), A_all, np.array([S.shape[0], S.shape[1]]).reshape(1,2))), axis = 0))\n",
    "            P = np.zeros_like(S)\n",
    "            \n",
    "            for g in range(0, gaps_idn.shape[1], 2):\n",
    "                S[gaps_idn[0,g]:gaps_idn[0,g+1],gaps_idn[1,g]:gaps_idn[1,g+1]] += lol_matrix_gap_dist_aprox(A_new, A_all, gaps_idn[:,g:g+2] ,d_mat_ij, d_mat_kl)\n",
    "            #S += lol_matrix_gap_dist_aprox(A_new, A_all, np.array([[0,0],[S.shape[0], S.shape[1]]]).T ,d_mat_ij, d_mat_kl)\n",
    "            for g in range(0, gaps_idn.shape[1], 2):\n",
    "                P[gaps_idn[0,g]:gaps_idn[0,g+1],gaps_idn[1,g]:gaps_idn[1,g+1]] = fb_global(S[gaps_idn[0,g]:gaps_idn[0,g+1],gaps_idn[1,g]:gaps_idn[1,g+1]], go, ge, tempr, pre)\n",
    "                if (g == 0 and gaps_idn[0,g] == 0 and gaps_idn[1,g] == 0):\n",
    "                    P[gaps_idn[0,g]:gaps_idn[0,g+1],gaps_idn[1,g]:gaps_idn[1,g+1]] = fb_local_global(S[gaps_idn[0,g]:gaps_idn[0,g+1],gaps_idn[1,g]:gaps_idn[1,g+1]], go, ge, tempr, pre)\n",
    "                elif(g == (gaps_idn.shape[1]-2), gaps_idn[0,g+1] == S.shape[0], gaps_idn[1,g+1] == S.shape[1]):\n",
    "                    P[gaps_idn[0,g]:gaps_idn[0,g+1],gaps_idn[1,g]:gaps_idn[1,g+1]] = fb_local_global(S[gaps_idn[0,g]:gaps_idn[0,g+1],gaps_idn[1,g]:gaps_idn[1,g+1]], go, ge, tempr, pre)\n",
    "                    \n",
    "                else:\n",
    "                    P[gaps_idn[0,g]:gaps_idn[0,g+1],gaps_idn[1,g]:gaps_idn[1,g+1]] = fb_global(S[gaps_idn[0,g]:gaps_idn[0,g+1],gaps_idn[1,g]:gaps_idn[1,g+1]], go, ge, tempr, pre)\n",
    "                    \n",
    "\n",
    "            m = np.max(P)\n",
    "            if m <= min_m:\n",
    "                break\n",
    "            A_new = np.argwhere(P >= np.max([m - red_m, min_m]))\n",
    "            A_all = np.vstack((A_all, A_new))\n",
    "            A_all = np.sort(A_all, axis = 0)\n",
    "            #num_all -= 1\n",
    "            #tempr = np.max([tempr-red_t, 1])\n",
    "        #S[A_all[:,0], A_all[:,1]] = 1e2\n",
    "        S_all.append(np.copy(S))\n",
    "        ap_all.append(np.copy(A_all))\n",
    "    return S_all, ap_all"
   ]
  },
  {
   "cell_type": "code",
   "execution_count": 14,
   "id": "31bba854",
   "metadata": {},
   "outputs": [],
   "source": [
    "class lol_alignment():\n",
    "    def __init__(self, sa_fb_go=-3, sa_fb_ge=-2, sa_temp = 1, le = 3,\n",
    "                 lol_go=-3, lol_ge=0, lol_min_m=0.4,  lol_red_t = 0, lol_temp=2):\n",
    "        self.sa_fb_go = sa_fb_go\n",
    "        self.sa_fb_ge = sa_fb_ge\n",
    "        self.sa_temp = sa_temp\n",
    "        self.le = le\n",
    "        self.lol_go = lol_go\n",
    "        self.lol_ge = lol_ge \n",
    "        self.lol_min_m = lol_min_m\n",
    "        self.lol_red_m = 0.1\n",
    "        self.lol_red_t = lol_red_t\n",
    "        self.lol_temp = lol_temp\n",
    "        self.alignments = {}\n",
    "        self.start_time = time.time()\n",
    "\n",
    "    def fit(self, querys, targets,*kwargs):\n",
    "        for query,target in tqdm(zip(querys, targets), total = querys.shape[0]):\n",
    "            if query == target:\n",
    "                print(query,target)\n",
    "            else:\n",
    "                coords1,_ = sid2coords.get(query)\n",
    "                coords2,_ = sid2coords.get(target)\n",
    "                coords1 = coords1[:,:3]\n",
    "                coords2 = coords2[:,:3]\n",
    "                d_mat_ij = distances(coords1, coords1)\n",
    "                d_mat_ij[d_mat_ij > 15] = 0\n",
    "                d_mat_kl = distances(coords2, coords2)\n",
    "                d_mat_ij = np.asarray(d_mat_ij)\n",
    "                d_mat_kl = np.asarray(d_mat_kl)\n",
    "                aa1 = sid2seq_aa[query]\n",
    "                aa2 = sid2seq_aa[target]\n",
    "                ss1 = sid2seq_ss[query]\n",
    "                ss2 = sid2seq_ss[target]\n",
    "                S = calcS_np(ss1, ss2, aa1, aa2, mat3di, blosum)\n",
    "\n",
    "\n",
    "\n",
    "\n",
    "                startAnchors = calc_startAnchors(S, self.sa_fb_go, self.sa_fb_ge, self.sa_temp, self.le)\n",
    "                S_lols, aps = align(S, startAnchors, self.lol_go, self.lol_ge, self.lol_min_m,\n",
    "                                                        self.lol_red_m, self.lol_temp, self.lol_red_t, d_mat_ij, d_mat_kl)\n",
    "                #self.alignments[query+\"_\"+target] = align(S, startAnchors, self.lol_go, self.lol_ge, self.lol_min_m,\n",
    "                #                                       self.lol_red_m, self.lol_temp, self.lol_red_t, d_mat_ij, d_mat_kl)\n",
    "                ap = []\n",
    "                #print(time.time() - st, S.shape[0], S.shape[1])\n",
    "                for i in range(10):\n",
    "                    S_lol, ap = S_lols[i], aps[i]\n",
    "                    self.alignments[query+\"_\"+target + str(i)] = np.copy(ap)\n",
    "                #rescale_scores.append(((S+S_lol) * fb_local(S +S_lol, -3.5, -.3, 2, np.longdouble)).sum() / np.sqrt(S.shape[0]*S.shape[1]))\n",
    "                #di_scores.append(((S+S_lol) * fb_local(S +S_lol, -30, -10, 15, np.longdouble)).sum())\n",
    "                \n",
    "            #self.rescale_score[query+\"_\"+target] = np.max(rescale_scores)\n",
    "            #self.di_score[query+\"_\"+target] = np.max(di_scores)\n",
    "            #print(time.time() - st, S.shape[0], S.shape[1])\n",
    "            \n"
   ]
  },
  {
   "cell_type": "code",
   "execution_count": 15,
   "id": "ba631e3d",
   "metadata": {},
   "outputs": [],
   "source": [
    "sens_alig = lol_alignment()"
   ]
  },
  {
   "cell_type": "code",
   "execution_count": 19,
   "id": "b4a21d18",
   "metadata": {},
   "outputs": [
    {
     "name": "stderr",
     "output_type": "stream",
     "text": [
      "  3%|███                                                                                                         | 28/1000 [00:47<25:47,  1.59s/it]"
     ]
    },
    {
     "name": "stdout",
     "output_type": "stream",
     "text": [
      "d1o89a2 d1o89a2\n"
     ]
    },
    {
     "name": "stderr",
     "output_type": "stream",
     "text": [
      "  3%|███▌                                                                                                        | 33/1000 [00:56<25:00,  1.55s/it]"
     ]
    },
    {
     "name": "stdout",
     "output_type": "stream",
     "text": [
      "d3lg3a_ d3lg3a_\n"
     ]
    },
    {
     "name": "stderr",
     "output_type": "stream",
     "text": [
      "  4%|████▎                                                                                                       | 40/1000 [01:01<13:19,  1.20it/s]"
     ]
    },
    {
     "name": "stdout",
     "output_type": "stream",
     "text": [
      "d1a6qa1 d1a6qa1\n"
     ]
    },
    {
     "name": "stderr",
     "output_type": "stream",
     "text": [
      "  5%|█████▌                                                                                                      | 52/1000 [01:17<24:31,  1.55s/it]"
     ]
    },
    {
     "name": "stdout",
     "output_type": "stream",
     "text": [
      "d1xa6a2 d1xa6a2\n"
     ]
    },
    {
     "name": "stderr",
     "output_type": "stream",
     "text": [
      " 13%|█████████████▌                                                                                             | 127/1000 [03:22<25:17,  1.74s/it]"
     ]
    },
    {
     "name": "stdout",
     "output_type": "stream",
     "text": [
      "d1jb7b_ d1jb7b_\n"
     ]
    },
    {
     "name": "stderr",
     "output_type": "stream",
     "text": [
      " 15%|████████████████▎                                                                                          | 153/1000 [03:56<12:26,  1.13it/s]"
     ]
    },
    {
     "name": "stdout",
     "output_type": "stream",
     "text": [
      "d2dida1 d2dida1\n"
     ]
    },
    {
     "name": "stderr",
     "output_type": "stream",
     "text": [
      " 22%|███████████████████████▊                                                                                   | 223/1000 [05:48<33:02,  2.55s/it]"
     ]
    },
    {
     "name": "stdout",
     "output_type": "stream",
     "text": [
      "d1qw9a1 d1qw9a1\n",
      "d2w0pa_ d2w0pa_\n"
     ]
    },
    {
     "name": "stderr",
     "output_type": "stream",
     "text": [
      " 25%|███████████████████████████▏                                                                               | 254/1000 [06:39<23:16,  1.87s/it]"
     ]
    },
    {
     "name": "stdout",
     "output_type": "stream",
     "text": [
      "d1fc6a3 d1fc6a3\n"
     ]
    },
    {
     "name": "stderr",
     "output_type": "stream",
     "text": [
      " 26%|████████████████████████████▎                                                                              | 265/1000 [06:57<22:58,  1.87s/it]"
     ]
    },
    {
     "name": "stdout",
     "output_type": "stream",
     "text": [
      "d3d85d1 d3d85d1\n"
     ]
    },
    {
     "name": "stderr",
     "output_type": "stream",
     "text": [
      " 31%|█████████████████████████████████                                                                          | 309/1000 [08:25<14:30,  1.26s/it]"
     ]
    },
    {
     "name": "stdout",
     "output_type": "stream",
     "text": [
      "d1iura_ d1iura_\n"
     ]
    },
    {
     "name": "stderr",
     "output_type": "stream",
     "text": [
      " 32%|█████████████████████████████████▉                                                                         | 317/1000 [08:33<16:10,  1.42s/it]"
     ]
    },
    {
     "name": "stdout",
     "output_type": "stream",
     "text": [
      "d3ah7a_ d3ah7a_\n"
     ]
    },
    {
     "name": "stderr",
     "output_type": "stream",
     "text": [
      "\r",
      " 32%|██████████████████████████████████▏                                                                        | 319/1000 [08:34<10:15,  1.11it/s]"
     ]
    },
    {
     "name": "stdout",
     "output_type": "stream",
     "text": [
      "d1ayea2 d1ayea2\n"
     ]
    },
    {
     "name": "stderr",
     "output_type": "stream",
     "text": [
      " 35%|█████████████████████████████████████▉                                                                     | 354/1000 [09:55<25:27,  2.36s/it]"
     ]
    },
    {
     "name": "stdout",
     "output_type": "stream",
     "text": [
      "d1m8pa3 d1m8pa3\n"
     ]
    },
    {
     "name": "stderr",
     "output_type": "stream",
     "text": [
      " 37%|███████████████████████████████████████▍                                                                   | 368/1000 [10:15<14:48,  1.41s/it]"
     ]
    },
    {
     "name": "stdout",
     "output_type": "stream",
     "text": [
      "d1qlwa_ d1qlwa_\n"
     ]
    },
    {
     "name": "stderr",
     "output_type": "stream",
     "text": [
      " 41%|███████████████████████████████████████████▉                                                               | 411/1000 [11:57<21:02,  2.14s/it]"
     ]
    },
    {
     "name": "stdout",
     "output_type": "stream",
     "text": [
      "d1e1oa1 d1e1oa1\n"
     ]
    },
    {
     "name": "stderr",
     "output_type": "stream",
     "text": [
      " 44%|███████████████████████████████████████████████▏                                                           | 441/1000 [12:58<21:22,  2.29s/it]"
     ]
    },
    {
     "name": "stdout",
     "output_type": "stream",
     "text": [
      "d1awcb_ d1awcb_\n"
     ]
    },
    {
     "name": "stderr",
     "output_type": "stream",
     "text": [
      " 49%|████████████████████████████████████████████████████▊                                                      | 494/1000 [14:25<11:23,  1.35s/it]"
     ]
    },
    {
     "name": "stdout",
     "output_type": "stream",
     "text": [
      "d2gz4a1 d2gz4a1\n"
     ]
    },
    {
     "name": "stderr",
     "output_type": "stream",
     "text": [
      " 50%|█████████████████████████████████████████████████████▍                                                     | 499/1000 [14:31<11:27,  1.37s/it]"
     ]
    },
    {
     "name": "stdout",
     "output_type": "stream",
     "text": [
      "d1nu9c1 d1nu9c1\n"
     ]
    },
    {
     "name": "stderr",
     "output_type": "stream",
     "text": [
      " 52%|████████████████████████████████████████████████████████                                                   | 524/1000 [14:56<07:02,  1.13it/s]"
     ]
    },
    {
     "name": "stdout",
     "output_type": "stream",
     "text": [
      "d2f02a_ d2f02a_\n"
     ]
    },
    {
     "name": "stderr",
     "output_type": "stream",
     "text": [
      " 54%|█████████████████████████████████████████████████████████▌                                                 | 538/1000 [15:30<14:41,  1.91s/it]"
     ]
    },
    {
     "name": "stdout",
     "output_type": "stream",
     "text": [
      "d1sbxa_ d1sbxa_\n"
     ]
    },
    {
     "name": "stderr",
     "output_type": "stream",
     "text": [
      " 55%|██████████████████████████████████████████████████████████▍                                                | 546/1000 [15:42<12:53,  1.70s/it]"
     ]
    },
    {
     "name": "stdout",
     "output_type": "stream",
     "text": [
      "d3er9b_ d3er9b_\n"
     ]
    },
    {
     "name": "stderr",
     "output_type": "stream",
     "text": [
      " 57%|████████████████████████████████████████████████████████████▉                                              | 570/1000 [16:17<14:18,  2.00s/it]"
     ]
    },
    {
     "name": "stdout",
     "output_type": "stream",
     "text": [
      "d1nu9c2 d1nu9c2\n"
     ]
    },
    {
     "name": "stderr",
     "output_type": "stream",
     "text": [
      " 58%|██████████████████████████████████████████████████████████████▌                                            | 585/1000 [16:41<07:51,  1.14s/it]"
     ]
    },
    {
     "name": "stdout",
     "output_type": "stream",
     "text": [
      "d1x5ga1 d1x5ga1\n"
     ]
    },
    {
     "name": "stderr",
     "output_type": "stream",
     "text": [
      " 59%|███████████████████████████████████████████████████████████████▎                                           | 592/1000 [16:54<13:24,  1.97s/it]"
     ]
    },
    {
     "name": "stdout",
     "output_type": "stream",
     "text": [
      "d2ek1a_ d2ek1a_\n"
     ]
    },
    {
     "name": "stderr",
     "output_type": "stream",
     "text": [
      " 62%|██████████████████████████████████████████████████████████████████▍                                        | 621/1000 [17:44<12:16,  1.94s/it]"
     ]
    },
    {
     "name": "stdout",
     "output_type": "stream",
     "text": [
      "d2p6va1 d2p6va1\n"
     ]
    },
    {
     "name": "stderr",
     "output_type": "stream",
     "text": [
      " 64%|████████████████████████████████████████████████████████████████████▋                                      | 642/1000 [18:10<08:33,  1.43s/it]"
     ]
    },
    {
     "name": "stdout",
     "output_type": "stream",
     "text": [
      "d2hkja2 d2hkja2\n"
     ]
    },
    {
     "name": "stderr",
     "output_type": "stream",
     "text": [
      " 65%|█████████████████████████████████████████████████████████████████████▎                                     | 648/1000 [18:17<07:29,  1.28s/it]"
     ]
    },
    {
     "name": "stdout",
     "output_type": "stream",
     "text": [
      "d1tc1a_ d1tc1a_\n"
     ]
    },
    {
     "name": "stderr",
     "output_type": "stream",
     "text": [
      " 67%|███████████████████████████████████████████████████████████████████████▌                                   | 669/1000 [18:45<05:22,  1.03it/s]"
     ]
    },
    {
     "name": "stdout",
     "output_type": "stream",
     "text": [
      "d1v8ca2 d1v8ca2\n"
     ]
    },
    {
     "name": "stderr",
     "output_type": "stream",
     "text": [
      " 69%|█████████████████████████████████████████████████████████████████████████▌                                 | 688/1000 [19:12<02:57,  1.76it/s]"
     ]
    },
    {
     "name": "stdout",
     "output_type": "stream",
     "text": [
      "d1txoa_ d1txoa_\n"
     ]
    },
    {
     "name": "stderr",
     "output_type": "stream",
     "text": [
      "\r",
      " 69%|█████████████████████████████████████████████████████████████████████████▊                                 | 690/1000 [19:13<02:52,  1.79it/s]"
     ]
    },
    {
     "name": "stdout",
     "output_type": "stream",
     "text": [
      "d256ba_ d256ba_\n"
     ]
    },
    {
     "name": "stderr",
     "output_type": "stream",
     "text": [
      " 70%|███████████████████████████████████████████████████████████████████████████                                | 701/1000 [19:39<08:37,  1.73s/it]"
     ]
    },
    {
     "name": "stdout",
     "output_type": "stream",
     "text": [
      "d1qb7a_ d1qb7a_\n"
     ]
    },
    {
     "name": "stderr",
     "output_type": "stream",
     "text": [
      " 73%|██████████████████████████████████████████████████████████████████████████████▍                            | 733/1000 [20:17<07:52,  1.77s/it]"
     ]
    },
    {
     "name": "stdout",
     "output_type": "stream",
     "text": [
      "d1lmb3_ d1lmb3_\n"
     ]
    },
    {
     "name": "stderr",
     "output_type": "stream",
     "text": [
      " 78%|███████████████████████████████████████████████████████████████████████████████████▌                       | 781/1000 [21:22<04:09,  1.14s/it]"
     ]
    },
    {
     "name": "stdout",
     "output_type": "stream",
     "text": [
      "d1wgxa_ d1wgxa_\n"
     ]
    },
    {
     "name": "stderr",
     "output_type": "stream",
     "text": [
      " 78%|███████████████████████████████████████████████████████████████████████████████████▉                       | 785/1000 [21:28<04:35,  1.28s/it]"
     ]
    },
    {
     "name": "stdout",
     "output_type": "stream",
     "text": [
      "d1yovb_ d1yovb_\n"
     ]
    },
    {
     "name": "stderr",
     "output_type": "stream",
     "text": [
      " 80%|█████████████████████████████████████████████████████████████████████████████████████▌                     | 800/1000 [21:52<05:16,  1.58s/it]"
     ]
    },
    {
     "name": "stdout",
     "output_type": "stream",
     "text": [
      "d2dmya1 d2dmya1\n"
     ]
    },
    {
     "name": "stderr",
     "output_type": "stream",
     "text": [
      " 82%|███████████████████████████████████████████████████████████████████████████████████████▎                   | 816/1000 [22:15<03:36,  1.17s/it]"
     ]
    },
    {
     "name": "stdout",
     "output_type": "stream",
     "text": [
      "d1lg7a_ d1lg7a_\n"
     ]
    },
    {
     "name": "stderr",
     "output_type": "stream",
     "text": [
      " 84%|██████████████████████████████████████████████████████████████████████████████████████████                 | 842/1000 [22:55<03:08,  1.19s/it]"
     ]
    },
    {
     "name": "stdout",
     "output_type": "stream",
     "text": [
      "d2cchb1 d2cchb1\n"
     ]
    },
    {
     "name": "stderr",
     "output_type": "stream",
     "text": [
      " 87%|█████████████████████████████████████████████████████████████████████████████████████████████              | 870/1000 [23:54<07:05,  3.27s/it]"
     ]
    },
    {
     "name": "stdout",
     "output_type": "stream",
     "text": [
      "d2gz1a2 d2gz1a2\n"
     ]
    },
    {
     "name": "stderr",
     "output_type": "stream",
     "text": [
      " 88%|█████████████████████████████████████████████████████████████████████████████████████████████▉             | 878/1000 [24:02<02:43,  1.34s/it]"
     ]
    },
    {
     "name": "stdout",
     "output_type": "stream",
     "text": [
      "d1urha1 d1urha1\n"
     ]
    },
    {
     "name": "stderr",
     "output_type": "stream",
     "text": [
      " 88%|██████████████████████████████████████████████████████████████████████████████████████████████▎            | 881/1000 [24:05<02:21,  1.19s/it]"
     ]
    },
    {
     "name": "stdout",
     "output_type": "stream",
     "text": [
      "d2dx6a_ d2dx6a_\n"
     ]
    },
    {
     "name": "stderr",
     "output_type": "stream",
     "text": [
      " 89%|███████████████████████████████████████████████████████████████████████████████████████████████▎           | 891/1000 [24:22<03:03,  1.69s/it]"
     ]
    },
    {
     "name": "stdout",
     "output_type": "stream",
     "text": [
      "d2azna1 d2azna1\n"
     ]
    },
    {
     "name": "stderr",
     "output_type": "stream",
     "text": [
      " 91%|█████████████████████████████████████████████████████████████████████████████████████████████████          | 907/1000 [24:43<02:20,  1.51s/it]"
     ]
    },
    {
     "name": "stdout",
     "output_type": "stream",
     "text": [
      "d2absa1 d2absa1\n"
     ]
    },
    {
     "name": "stderr",
     "output_type": "stream",
     "text": [
      " 93%|███████████████████████████████████████████████████████████████████████████████████████████████████▊       | 933/1000 [25:14<01:08,  1.02s/it]"
     ]
    },
    {
     "name": "stdout",
     "output_type": "stream",
     "text": [
      "d1q6za3 d1q6za3\n"
     ]
    },
    {
     "name": "stderr",
     "output_type": "stream",
     "text": [
      " 94%|████████████████████████████████████████████████████████████████████████████████████████████████████▍      | 939/1000 [25:20<00:59,  1.02it/s]"
     ]
    },
    {
     "name": "stdout",
     "output_type": "stream",
     "text": [
      "d1h2sb_ d1h2sb_\n"
     ]
    },
    {
     "name": "stderr",
     "output_type": "stream",
     "text": [
      " 95%|█████████████████████████████████████████████████████████████████████████████████████████████████████▏     | 946/1000 [25:30<01:42,  1.90s/it]"
     ]
    },
    {
     "name": "stdout",
     "output_type": "stream",
     "text": [
      "d1vq831 d1vq831\n"
     ]
    },
    {
     "name": "stderr",
     "output_type": "stream",
     "text": [
      " 97%|████████████████████████████████████████████████████████████████████████████████████████████████████████   | 972/1000 [26:06<00:36,  1.29s/it]"
     ]
    },
    {
     "name": "stdout",
     "output_type": "stream",
     "text": [
      "d1ix9a1 d1ix9a1\n"
     ]
    },
    {
     "name": "stderr",
     "output_type": "stream",
     "text": [
      " 99%|██████████████████████████████████████████████████████████████████████████████████████████████████████████▎| 993/1000 [26:37<00:08,  1.22s/it]"
     ]
    },
    {
     "name": "stdout",
     "output_type": "stream",
     "text": [
      "d2uy6b1 d2uy6b1\n"
     ]
    },
    {
     "name": "stderr",
     "output_type": "stream",
     "text": [
      "100%|██████████████████████████████████████████████████████████████████████████████████████████████████████████| 1000/1000 [26:42<00:00,  1.60s/it]"
     ]
    },
    {
     "name": "stdout",
     "output_type": "stream",
     "text": [
      "d2hv2a1 d2hv2a1\n"
     ]
    },
    {
     "name": "stderr",
     "output_type": "stream",
     "text": [
      "\n"
     ]
    }
   ],
   "source": [
    "sens_alig.fit(query,target)"
   ]
  },
  {
   "cell_type": "code",
   "execution_count": 140,
   "id": "909d035a",
   "metadata": {},
   "outputs": [
    {
     "data": {
      "text/plain": [
       "49"
      ]
     },
     "execution_count": 140,
     "metadata": {},
     "output_type": "execute_result"
    }
   ],
   "source": [
    "(query==target).sum()"
   ]
  },
  {
   "cell_type": "code",
   "execution_count": 16,
   "id": "d4e4ec82",
   "metadata": {},
   "outputs": [
    {
     "name": "stderr",
     "output_type": "stream",
     "text": [
      "/tmp/ipykernel_27465/2090322524.py:1: ParserWarning: Falling back to the 'python' engine because the 'c' engine does not support regex separators (separators > 1 char and different from '\\s+' are interpreted as regex); you can avoid this warning by specifying engine='python'.\n",
      "  alignments = pd.read_csv(\"benchmark/alignments.csv\", sep='\\,')\n"
     ]
    }
   ],
   "source": [
    "alignments = pd.read_csv(\"benchmark/alignments.csv\", sep='\\,')\n"
   ]
  },
  {
   "cell_type": "code",
   "execution_count": 17,
   "id": "8a324853",
   "metadata": {},
   "outputs": [],
   "source": [
    "sample = alignments[(alignments[\"same_sfam\"] == True)].sample(1000, random_state=42)"
   ]
  },
  {
   "cell_type": "code",
   "execution_count": 18,
   "id": "f94d953a",
   "metadata": {},
   "outputs": [],
   "source": [
    "query, target = sample['query'].values, sample['target'].values"
   ]
  },
  {
   "cell_type": "code",
   "execution_count": 20,
   "id": "02a0d5ab",
   "metadata": {},
   "outputs": [
    {
     "data": {
      "text/plain": [
       "{}"
      ]
     },
     "execution_count": 20,
     "metadata": {},
     "output_type": "execute_result"
    }
   ],
   "source": [
    "sens_alig.alignments"
   ]
  },
  {
   "cell_type": "code",
   "execution_count": 49,
   "id": "c4a21c3d",
   "metadata": {},
   "outputs": [
    {
     "data": {
      "text/plain": [
       "('d2z5ka_', 'd2z5ka_')"
      ]
     },
     "execution_count": 49,
     "metadata": {},
     "output_type": "execute_result"
    }
   ],
   "source": [
    " "
   ]
  },
  {
   "cell_type": "code",
   "execution_count": null,
   "id": "25bdf5bd",
   "metadata": {},
   "outputs": [],
   "source": []
  },
  {
   "cell_type": "code",
   "execution_count": null,
   "id": "3f065ef6",
   "metadata": {},
   "outputs": [],
   "source": [
    "  "
   ]
  },
  {
   "cell_type": "code",
   "execution_count": 20,
   "id": "bb338a34",
   "metadata": {},
   "outputs": [],
   "source": [
    "def calc_score_dali(ap, d_mat_ij, d_mat_kl):\n",
    "    lol_score =  0\n",
    "    pre = np.longdouble\n",
    "    index_test = (ap[:,0]).reshape(-1)[None,:] - ap[:,1][:,None]\n",
    "    d_mat_ij_test = d_mat_ij[:, ap[:,0]]\n",
    "    d_mat_ij_test = d_mat_ij_test[ap[:,0], :]\n",
    "    d_mat_kl_test = d_mat_kl[:,ap[:,1]]\n",
    "    d_mat_kl_test = d_mat_kl_test[ap[:,1], :]\n",
    "    d_mask_test = d_mat_ij_test > 0\n",
    "    d_ij_test, d_kl_test, d_seq_test = d_mat_ij_test[d_mask_test], d_mat_kl_test[d_mask_test], index_test[d_mask_test]\n",
    "    _lol_scores = lol_score_approx(d_ij_test, d_kl_test, d_seq_test)\n",
    "    \n",
    "    return np.sum(_lol_scores)"
   ]
  },
  {
   "cell_type": "code",
   "execution_count": 21,
   "id": "4bb8e131",
   "metadata": {},
   "outputs": [],
   "source": [
    "def calc_score(aps, d_mat_ij, d_mat_kl):\n",
    "    lol_score =  0\n",
    "    pre = np.longdouble\n",
    "    \n",
    "    all_lolscores = np.zeros(10)\n",
    "\n",
    "    for i in range(10):\n",
    "        ap = aps[i]\n",
    "\n",
    "        index_test = (ap[:,0]).reshape(-1)[None,:] - ap[:,1][:,None]\n",
    "        d_mat_ij_test = d_mat_ij[:, ap[:,0]]\n",
    "        d_mat_ij_test = d_mat_ij_test[ap[:,0], :]\n",
    "        d_mat_kl_test = d_mat_kl[:,ap[:,1]]\n",
    "        d_mat_kl_test = d_mat_kl_test[ap[:,1], :]\n",
    "        d_mask_test = d_mat_ij_test > 0\n",
    "        \n",
    "\n",
    "        d_ij_test, d_kl_test, d_seq_test = d_mat_ij_test[d_mask_test], d_mat_kl_test[d_mask_test], index_test[d_mask_test]\n",
    "        _lol_scores = lol_score_approx(d_ij_test, d_kl_test, d_seq_test)\n",
    "        all_lolscores[i] = np.sum(_lol_scores)\n",
    "    return np.max(all_lolscores)"
   ]
  },
  {
   "cell_type": "code",
   "execution_count": 131,
   "id": "ab6adfc9",
   "metadata": {},
   "outputs": [
    {
     "data": {
      "text/html": [
       "<div>\n",
       "<style scoped>\n",
       "    .dataframe tbody tr th:only-of-type {\n",
       "        vertical-align: middle;\n",
       "    }\n",
       "\n",
       "    .dataframe tbody tr th {\n",
       "        vertical-align: top;\n",
       "    }\n",
       "\n",
       "    .dataframe thead th {\n",
       "        text-align: right;\n",
       "    }\n",
       "</style>\n",
       "<table border=\"1\" class=\"dataframe\">\n",
       "  <thead>\n",
       "    <tr style=\"text-align: right;\">\n",
       "      <th></th>\n",
       "      <th>query</th>\n",
       "      <th>target</th>\n",
       "      <th>bits</th>\n",
       "      <th>lddt</th>\n",
       "      <th>cigar_fs</th>\n",
       "      <th>qstart_fs</th>\n",
       "      <th>tstart_fs</th>\n",
       "      <th>alnlen</th>\n",
       "      <th>q_scope</th>\n",
       "      <th>t_scope</th>\n",
       "      <th>same_fam</th>\n",
       "      <th>same_sfam</th>\n",
       "      <th>same_fold</th>\n",
       "      <th>qstart_dali</th>\n",
       "      <th>tstart_dali</th>\n",
       "      <th>cigar_dali</th>\n",
       "      <th>dali_rank</th>\n",
       "    </tr>\n",
       "  </thead>\n",
       "  <tbody>\n",
       "    <tr>\n",
       "      <th>301063</th>\n",
       "      <td>d2ptfa1</td>\n",
       "      <td>d1i0ra_</td>\n",
       "      <td>166</td>\n",
       "      <td>0.4954</td>\n",
       "      <td>9M3I19M3D36M3D7M5D5M3I3M4D8M2D19M6I20M1I11M</td>\n",
       "      <td>7</td>\n",
       "      <td>1</td>\n",
       "      <td>167</td>\n",
       "      <td>b.45.1.4</td>\n",
       "      <td>b.45.1.2</td>\n",
       "      <td>False</td>\n",
       "      <td>True</td>\n",
       "      <td>True</td>\n",
       "      <td>9</td>\n",
       "      <td>1</td>\n",
       "      <td>21M1I9M1D6M2D28M3D12M6D11M1D7M1D16M6I24M2D7M40I4M</td>\n",
       "      <td>9</td>\n",
       "    </tr>\n",
       "    <tr>\n",
       "      <th>325597</th>\n",
       "      <td>d3bmva1</td>\n",
       "      <td>d1imhc1</td>\n",
       "      <td>110</td>\n",
       "      <td>0.6479</td>\n",
       "      <td>10M2D14M2I3M1D6M9D6M2D13M6D15M1I2M1D4M</td>\n",
       "      <td>4</td>\n",
       "      <td>2</td>\n",
       "      <td>97</td>\n",
       "      <td>b.1.18.2</td>\n",
       "      <td>b.1.18.1</td>\n",
       "      <td>False</td>\n",
       "      <td>True</td>\n",
       "      <td>True</td>\n",
       "      <td>3</td>\n",
       "      <td>1</td>\n",
       "      <td>13M2D13M1I8M9D8M2D14M6D12M1I11M</td>\n",
       "      <td>3</td>\n",
       "    </tr>\n",
       "    <tr>\n",
       "      <th>264156</th>\n",
       "      <td>d2g17a2</td>\n",
       "      <td>d1vm6a2</td>\n",
       "      <td>29</td>\n",
       "      <td>0.3671</td>\n",
       "      <td>14M4I4M1D9M3I6M16I19M1D6M2I7M</td>\n",
       "      <td>3</td>\n",
       "      <td>6</td>\n",
       "      <td>92</td>\n",
       "      <td>d.81.1.1</td>\n",
       "      <td>d.81.1.3</td>\n",
       "      <td>False</td>\n",
       "      <td>True</td>\n",
       "      <td>True</td>\n",
       "      <td>1</td>\n",
       "      <td>4</td>\n",
       "      <td>15M1I5M2I13M19I27M1I11M48I12M</td>\n",
       "      <td>16</td>\n",
       "    </tr>\n",
       "    <tr>\n",
       "      <th>200578</th>\n",
       "      <td>d1xera_</td>\n",
       "      <td>d2c42a5</td>\n",
       "      <td>55</td>\n",
       "      <td>0.5075</td>\n",
       "      <td>24M17D16M1D20M2D6M</td>\n",
       "      <td>37</td>\n",
       "      <td>13</td>\n",
       "      <td>86</td>\n",
       "      <td>d.58.1.3</td>\n",
       "      <td>d.58.1.5</td>\n",
       "      <td>False</td>\n",
       "      <td>True</td>\n",
       "      <td>True</td>\n",
       "      <td>25</td>\n",
       "      <td>1</td>\n",
       "      <td>40M15D5M4D8M1I17M2D8M</td>\n",
       "      <td>12</td>\n",
       "    </tr>\n",
       "    <tr>\n",
       "      <th>66707</th>\n",
       "      <td>d1jhja_</td>\n",
       "      <td>d2vnga1</td>\n",
       "      <td>78</td>\n",
       "      <td>0.3749</td>\n",
       "      <td>7M4D2M9D7M1D3M7D3M1I6M3D23M1I10M1D3M4D5M1D7M3I...</td>\n",
       "      <td>20</td>\n",
       "      <td>2</td>\n",
       "      <td>176</td>\n",
       "      <td>b.18.1.9</td>\n",
       "      <td>b.18.1.33</td>\n",
       "      <td>False</td>\n",
       "      <td>True</td>\n",
       "      <td>True</td>\n",
       "      <td>21</td>\n",
       "      <td>1</td>\n",
       "      <td>5M1D5M1D4M3D9M8D7M13D5M1I11M1I13M6D17M5I8M8D13...</td>\n",
       "      <td>27</td>\n",
       "    </tr>\n",
       "    <tr>\n",
       "      <th>...</th>\n",
       "      <td>...</td>\n",
       "      <td>...</td>\n",
       "      <td>...</td>\n",
       "      <td>...</td>\n",
       "      <td>...</td>\n",
       "      <td>...</td>\n",
       "      <td>...</td>\n",
       "      <td>...</td>\n",
       "      <td>...</td>\n",
       "      <td>...</td>\n",
       "      <td>...</td>\n",
       "      <td>...</td>\n",
       "      <td>...</td>\n",
       "      <td>...</td>\n",
       "      <td>...</td>\n",
       "      <td>...</td>\n",
       "      <td>...</td>\n",
       "    </tr>\n",
       "    <tr>\n",
       "      <th>188345</th>\n",
       "      <td>d1wfna1</td>\n",
       "      <td>d1x3da1</td>\n",
       "      <td>236</td>\n",
       "      <td>0.6435</td>\n",
       "      <td>64M1I30M1D8M</td>\n",
       "      <td>1</td>\n",
       "      <td>1</td>\n",
       "      <td>104</td>\n",
       "      <td>b.1.2.1</td>\n",
       "      <td>b.1.2.1</td>\n",
       "      <td>True</td>\n",
       "      <td>True</td>\n",
       "      <td>True</td>\n",
       "      <td>1</td>\n",
       "      <td>1</td>\n",
       "      <td>34M1I4M1D10M1D5M1I4M1D4M2I31M1D9M</td>\n",
       "      <td>35</td>\n",
       "    </tr>\n",
       "    <tr>\n",
       "      <th>295220</th>\n",
       "      <td>d2ouxa2</td>\n",
       "      <td>d1pvma4</td>\n",
       "      <td>175</td>\n",
       "      <td>0.7099</td>\n",
       "      <td>31M5I23M6D5M1D55M</td>\n",
       "      <td>1</td>\n",
       "      <td>3</td>\n",
       "      <td>126</td>\n",
       "      <td>d.37.1.1</td>\n",
       "      <td>d.37.1.1</td>\n",
       "      <td>True</td>\n",
       "      <td>True</td>\n",
       "      <td>True</td>\n",
       "      <td>1</td>\n",
       "      <td>3</td>\n",
       "      <td>31M5I24M7D64M11D3M</td>\n",
       "      <td>18</td>\n",
       "    </tr>\n",
       "    <tr>\n",
       "      <th>49940</th>\n",
       "      <td>d1hbxg_</td>\n",
       "      <td>d1mzba_</td>\n",
       "      <td>20</td>\n",
       "      <td>0.4787</td>\n",
       "      <td>6M1D9M3I2M12I15M1I28M2D8M19D20M</td>\n",
       "      <td>4</td>\n",
       "      <td>14</td>\n",
       "      <td>126</td>\n",
       "      <td>a.4.5.21</td>\n",
       "      <td>a.4.5.42</td>\n",
       "      <td>False</td>\n",
       "      <td>True</td>\n",
       "      <td>True</td>\n",
       "      <td>1</td>\n",
       "      <td>16</td>\n",
       "      <td>14M16I4M2I14M2I24M2D12M24D24M</td>\n",
       "      <td>31</td>\n",
       "    </tr>\n",
       "    <tr>\n",
       "      <th>191465</th>\n",
       "      <td>d1wk1a_</td>\n",
       "      <td>d1qdda_</td>\n",
       "      <td>170</td>\n",
       "      <td>0.6092</td>\n",
       "      <td>11M4D19M1D19M5D11M1D14M7I25M2I18M</td>\n",
       "      <td>2</td>\n",
       "      <td>13</td>\n",
       "      <td>137</td>\n",
       "      <td>d.169.1.1</td>\n",
       "      <td>d.169.1.1</td>\n",
       "      <td>True</td>\n",
       "      <td>True</td>\n",
       "      <td>True</td>\n",
       "      <td>1</td>\n",
       "      <td>7</td>\n",
       "      <td>4M9D26M1D21M5D12M1D8M5I6M2I24M2I21M</td>\n",
       "      <td>16</td>\n",
       "    </tr>\n",
       "    <tr>\n",
       "      <th>276055</th>\n",
       "      <td>d2hv2a1</td>\n",
       "      <td>d2hv2a1</td>\n",
       "      <td>919</td>\n",
       "      <td>1.0000</td>\n",
       "      <td>107M</td>\n",
       "      <td>1</td>\n",
       "      <td>1</td>\n",
       "      <td>107</td>\n",
       "      <td>d.106.1.4</td>\n",
       "      <td>d.106.1.4</td>\n",
       "      <td>True</td>\n",
       "      <td>True</td>\n",
       "      <td>True</td>\n",
       "      <td>1</td>\n",
       "      <td>1</td>\n",
       "      <td>107M</td>\n",
       "      <td>1</td>\n",
       "    </tr>\n",
       "  </tbody>\n",
       "</table>\n",
       "<p>1000 rows × 17 columns</p>\n",
       "</div>"
      ],
      "text/plain": [
       "          query   target  bits    lddt  \\\n",
       "301063  d2ptfa1  d1i0ra_   166  0.4954   \n",
       "325597  d3bmva1  d1imhc1   110  0.6479   \n",
       "264156  d2g17a2  d1vm6a2    29  0.3671   \n",
       "200578  d1xera_  d2c42a5    55  0.5075   \n",
       "66707   d1jhja_  d2vnga1    78  0.3749   \n",
       "...         ...      ...   ...     ...   \n",
       "188345  d1wfna1  d1x3da1   236  0.6435   \n",
       "295220  d2ouxa2  d1pvma4   175  0.7099   \n",
       "49940   d1hbxg_  d1mzba_    20  0.4787   \n",
       "191465  d1wk1a_  d1qdda_   170  0.6092   \n",
       "276055  d2hv2a1  d2hv2a1   919  1.0000   \n",
       "\n",
       "                                                 cigar_fs  qstart_fs  \\\n",
       "301063        9M3I19M3D36M3D7M5D5M3I3M4D8M2D19M6I20M1I11M          7   \n",
       "325597             10M2D14M2I3M1D6M9D6M2D13M6D15M1I2M1D4M          4   \n",
       "264156                      14M4I4M1D9M3I6M16I19M1D6M2I7M          3   \n",
       "200578                                 24M17D16M1D20M2D6M         37   \n",
       "66707   7M4D2M9D7M1D3M7D3M1I6M3D23M1I10M1D3M4D5M1D7M3I...         20   \n",
       "...                                                   ...        ...   \n",
       "188345                                       64M1I30M1D8M          1   \n",
       "295220                                  31M5I23M6D5M1D55M          1   \n",
       "49940                     6M1D9M3I2M12I15M1I28M2D8M19D20M          4   \n",
       "191465                  11M4D19M1D19M5D11M1D14M7I25M2I18M          2   \n",
       "276055                                               107M          1   \n",
       "\n",
       "        tstart_fs  alnlen    q_scope    t_scope  same_fam  same_sfam  \\\n",
       "301063          1     167   b.45.1.4   b.45.1.2     False       True   \n",
       "325597          2      97   b.1.18.2   b.1.18.1     False       True   \n",
       "264156          6      92   d.81.1.1   d.81.1.3     False       True   \n",
       "200578         13      86   d.58.1.3   d.58.1.5     False       True   \n",
       "66707           2     176   b.18.1.9  b.18.1.33     False       True   \n",
       "...           ...     ...        ...        ...       ...        ...   \n",
       "188345          1     104    b.1.2.1    b.1.2.1      True       True   \n",
       "295220          3     126   d.37.1.1   d.37.1.1      True       True   \n",
       "49940          14     126   a.4.5.21   a.4.5.42     False       True   \n",
       "191465         13     137  d.169.1.1  d.169.1.1      True       True   \n",
       "276055          1     107  d.106.1.4  d.106.1.4      True       True   \n",
       "\n",
       "        same_fold  qstart_dali  tstart_dali  \\\n",
       "301063       True            9            1   \n",
       "325597       True            3            1   \n",
       "264156       True            1            4   \n",
       "200578       True           25            1   \n",
       "66707        True           21            1   \n",
       "...           ...          ...          ...   \n",
       "188345       True            1            1   \n",
       "295220       True            1            3   \n",
       "49940        True            1           16   \n",
       "191465       True            1            7   \n",
       "276055       True            1            1   \n",
       "\n",
       "                                               cigar_dali  dali_rank  \n",
       "301063  21M1I9M1D6M2D28M3D12M6D11M1D7M1D16M6I24M2D7M40I4M          9  \n",
       "325597                    13M2D13M1I8M9D8M2D14M6D12M1I11M          3  \n",
       "264156                      15M1I5M2I13M19I27M1I11M48I12M         16  \n",
       "200578                              40M15D5M4D8M1I17M2D8M         12  \n",
       "66707   5M1D5M1D4M3D9M8D7M13D5M1I11M1I13M6D17M5I8M8D13...         27  \n",
       "...                                                   ...        ...  \n",
       "188345                  34M1I4M1D10M1D5M1I4M1D4M2I31M1D9M         35  \n",
       "295220                                 31M5I24M7D64M11D3M         18  \n",
       "49940                       14M16I4M2I14M2I24M2D12M24D24M         31  \n",
       "191465                4M9D26M1D21M5D12M1D8M5I6M2I24M2I21M         16  \n",
       "276055                                               107M          1  \n",
       "\n",
       "[1000 rows x 17 columns]"
      ]
     },
     "execution_count": 131,
     "metadata": {},
     "output_type": "execute_result"
    }
   ],
   "source": [
    "sample"
   ]
  },
  {
   "cell_type": "code",
   "execution_count": 22,
   "id": "2fcefcf5",
   "metadata": {},
   "outputs": [
    {
     "ename": "NameError",
     "evalue": "name 'align_coords' is not defined",
     "output_type": "error",
     "traceback": [
      "\u001b[0;31m---------------------------------------------------------------------------\u001b[0m",
      "\u001b[0;31mNameError\u001b[0m                                 Traceback (most recent call last)",
      "Cell \u001b[0;32mIn[22], line 14\u001b[0m\n\u001b[1;32m      9\u001b[0m d_mat_ij[d_mat_ij \u001b[38;5;241m>\u001b[39m \u001b[38;5;241m15\u001b[39m] \u001b[38;5;241m=\u001b[39m \u001b[38;5;241m0\u001b[39m\n\u001b[1;32m     10\u001b[0m d_mat_kl \u001b[38;5;241m=\u001b[39m distances(coords2, coords2)\n\u001b[1;32m     13\u001b[0m (aln_coords1, aln_coords2), (idx1, idx2), (len1, len2) \u001b[38;5;241m=\u001b[39m\\\n\u001b[0;32m---> 14\u001b[0m         align_coords((coords1, mask1),\n\u001b[1;32m     15\u001b[0m                      (coords2, mask2),\n\u001b[1;32m     16\u001b[0m                      (cigar, qstart, tstart))\n\u001b[1;32m     17\u001b[0m lol_fs\u001b[38;5;241m.\u001b[39mappend(calc_score_dali(np\u001b[38;5;241m.\u001b[39marray([idx1, idx2])\u001b[38;5;241m.\u001b[39mT, d_mat_ij, d_mat_kl))\n",
      "\u001b[0;31mNameError\u001b[0m: name 'align_coords' is not defined"
     ]
    }
   ],
   "source": [
    "lol_fs = []\n",
    "for q,t,qstart,tstart,cigar in zip(sample['query'].values, sample['target'].values, sample['qstart_fs'].values, sample['tstart_fs'].values, sample['cigar_fs'].values):\n",
    "    if q != t:\n",
    "        coords1, mask1 = sid2coords.get(q)\n",
    "        coords2, mask2 = sid2coords.get(t) \n",
    "        coords1 = coords1[:,:3]\n",
    "        coords2 = coords2[:,:3]\n",
    "        d_mat_ij = distances(coords1, coords1)\n",
    "        d_mat_ij[d_mat_ij > 15] = 0\n",
    "        d_mat_kl = distances(coords2, coords2)\n",
    "        \n",
    "   \n",
    "        (aln_coords1, aln_coords2), (idx1, idx2), (len1, len2) =\\\n",
    "                align_coords((coords1, mask1),\n",
    "                             (coords2, mask2),\n",
    "                             (cigar, qstart, tstart))\n",
    "        lol_fs.append(calc_score_dali(np.array([idx1, idx2]).T, d_mat_ij, d_mat_kl))"
   ]
  },
  {
   "cell_type": "code",
   "execution_count": 23,
   "id": "9d10dba0",
   "metadata": {},
   "outputs": [
    {
     "ename": "NameError",
     "evalue": "name 'align_coords' is not defined",
     "output_type": "error",
     "traceback": [
      "\u001b[0;31m---------------------------------------------------------------------------\u001b[0m",
      "\u001b[0;31mNameError\u001b[0m                                 Traceback (most recent call last)",
      "Cell \u001b[0;32mIn[23], line 16\u001b[0m\n\u001b[1;32m     11\u001b[0m d_mat_ij[d_mat_ij \u001b[38;5;241m>\u001b[39m \u001b[38;5;241m15\u001b[39m] \u001b[38;5;241m=\u001b[39m \u001b[38;5;241m0\u001b[39m\n\u001b[1;32m     12\u001b[0m d_mat_kl \u001b[38;5;241m=\u001b[39m distances(coords2, coords2)\n\u001b[1;32m     15\u001b[0m (aln_coords1, aln_coords2), (idx1, idx2), (len1, len2) \u001b[38;5;241m=\u001b[39m\\\n\u001b[0;32m---> 16\u001b[0m         align_coords((coords1, mask1),\n\u001b[1;32m     17\u001b[0m                      (coords2, mask2),\n\u001b[1;32m     18\u001b[0m                      (cigar, qstart, tstart))\n\u001b[1;32m     19\u001b[0m lol_dali\u001b[38;5;241m.\u001b[39mappend(calc_score_dali(np\u001b[38;5;241m.\u001b[39marray([idx1, idx2])\u001b[38;5;241m.\u001b[39mT, d_mat_ij, d_mat_kl))\n\u001b[1;32m     23\u001b[0m aps_lol \u001b[38;5;241m=\u001b[39m[]\n",
      "\u001b[0;31mNameError\u001b[0m: name 'align_coords' is not defined"
     ]
    }
   ],
   "source": [
    "lol_dali = []\n",
    "\n",
    "lol_new = []\n",
    "for q,t,qstart,tstart,cigar in zip(sample['query'].values, sample['target'].values, sample['qstart_dali'].values, sample['tstart_dali'].values, sample['cigar_dali'].values):\n",
    "    if q != t:\n",
    "        coords1, mask1 = sid2coords.get(q)\n",
    "        coords2, mask2 = sid2coords.get(t) \n",
    "        coords1 = coords1[:,:3]\n",
    "        coords2 = coords2[:,:3]\n",
    "        d_mat_ij = distances(coords1, coords1)\n",
    "        d_mat_ij[d_mat_ij > 15] = 0\n",
    "        d_mat_kl = distances(coords2, coords2)\n",
    "        \n",
    "   \n",
    "        (aln_coords1, aln_coords2), (idx1, idx2), (len1, len2) =\\\n",
    "                align_coords((coords1, mask1),\n",
    "                             (coords2, mask2),\n",
    "                             (cigar, qstart, tstart))\n",
    "        lol_dali.append(calc_score_dali(np.array([idx1, idx2]).T, d_mat_ij, d_mat_kl))\n",
    "\n",
    "\n",
    "        \n",
    "        aps_lol =[]\n",
    "        for i in range(10):\n",
    "            aps_lol.append(sens_alig.alignments[q+\"_\"+t + str(i)])\n",
    "        lol_new.append(calc_score(aps_lol, d_mat_ij, d_mat_kl))\n",
    "    "
   ]
  },
  {
   "cell_type": "code",
   "execution_count": 153,
   "id": "11d14920",
   "metadata": {},
   "outputs": [
    {
     "data": {
      "text/plain": [
       "-296.6936190390235"
      ]
     },
     "execution_count": 153,
     "metadata": {},
     "output_type": "execute_result"
    }
   ],
   "source": [
    "(np.array(lol_dali) - np.array(lol_new)).mean()"
   ]
  },
  {
   "cell_type": "code",
   "execution_count": 39,
   "id": "3a1af4b5",
   "metadata": {},
   "outputs": [
    {
     "data": {
      "text/plain": [
       "Text(0.5, 0, 'Dali LoL-Score - Prosa LoL-Score')"
      ]
     },
     "execution_count": 39,
     "metadata": {},
     "output_type": "execute_result"
    },
    {
     "data": {
      "image/png": "[encoded data removed]",
      "text/plain": [
       "<Figure size 640x480 with 1 Axes>"
      ]
     },
     "metadata": {},
     "output_type": "display_data"
    }
   ],
   "source": [
    "plt.hist(np.array(lol_dali) - np.array(lol_new), bins = 50)\n",
    "plt.title('LoL-Score')\n",
    "plt.ylabel('Number of samples')\n",
    "plt.xlabel('Dali LoL-Score - Prosa LoL-Score')"
   ]
  },
  {
   "cell_type": "code",
   "execution_count": 40,
   "id": "57bd1d72",
   "metadata": {},
   "outputs": [
    {
     "data": {
      "text/plain": [
       "Text(0.5, 0, 'Foldseek LoL-Score - Prosa LoL-Score')"
      ]
     },
     "execution_count": 40,
     "metadata": {},
     "output_type": "execute_result"
    },
    {
     "data": {
      "image/png": "[encoded data removed]",
      "text/plain": [
       "<Figure size 640x480 with 1 Axes>"
      ]
     },
     "metadata": {},
     "output_type": "display_data"
    }
   ],
   "source": [
    "plt.hist(np.array(lol_fs) - np.array(lol_new), bins = 50)\n",
    "plt.title('LoL-Score')\n",
    "plt.ylabel('Number of samples')\n",
    "plt.xlabel('Foldseek LoL-Score - Prosa LoL-Score')"
   ]
  },
  {
   "cell_type": "code",
   "execution_count": 92,
   "id": "c87c91b6",
   "metadata": {},
   "outputs": [
    {
     "data": {
      "text/html": [
       "<div>\n",
       "<style scoped>\n",
       "    .dataframe tbody tr th:only-of-type {\n",
       "        vertical-align: middle;\n",
       "    }\n",
       "\n",
       "    .dataframe tbody tr th {\n",
       "        vertical-align: top;\n",
       "    }\n",
       "\n",
       "    .dataframe thead th {\n",
       "        text-align: right;\n",
       "    }\n",
       "</style>\n",
       "<table border=\"1\" class=\"dataframe\">\n",
       "  <thead>\n",
       "    <tr style=\"text-align: right;\">\n",
       "      <th></th>\n",
       "      <th>query</th>\n",
       "      <th>target</th>\n",
       "      <th>bits</th>\n",
       "      <th>lddt</th>\n",
       "      <th>cigar_fs</th>\n",
       "      <th>qstart_fs</th>\n",
       "      <th>tstart_fs</th>\n",
       "      <th>alnlen</th>\n",
       "      <th>q_scope</th>\n",
       "      <th>t_scope</th>\n",
       "      <th>same_fam</th>\n",
       "      <th>same_sfam</th>\n",
       "      <th>same_fold</th>\n",
       "      <th>qstart_dali</th>\n",
       "      <th>tstart_dali</th>\n",
       "      <th>cigar_dali</th>\n",
       "      <th>dali_rank</th>\n",
       "    </tr>\n",
       "  </thead>\n",
       "  <tbody>\n",
       "    <tr>\n",
       "      <th>301063</th>\n",
       "      <td>d2ptfa1</td>\n",
       "      <td>d1i0ra_</td>\n",
       "      <td>166</td>\n",
       "      <td>0.4954</td>\n",
       "      <td>9M3I19M3D36M3D7M5D5M3I3M4D8M2D19M6I20M1I11M</td>\n",
       "      <td>7</td>\n",
       "      <td>1</td>\n",
       "      <td>167</td>\n",
       "      <td>b.45.1.4</td>\n",
       "      <td>b.45.1.2</td>\n",
       "      <td>False</td>\n",
       "      <td>True</td>\n",
       "      <td>True</td>\n",
       "      <td>9</td>\n",
       "      <td>1</td>\n",
       "      <td>21M1I9M1D6M2D28M3D12M6D11M1D7M1D16M6I24M2D7M40I4M</td>\n",
       "      <td>9</td>\n",
       "    </tr>\n",
       "    <tr>\n",
       "      <th>325597</th>\n",
       "      <td>d3bmva1</td>\n",
       "      <td>d1imhc1</td>\n",
       "      <td>110</td>\n",
       "      <td>0.6479</td>\n",
       "      <td>10M2D14M2I3M1D6M9D6M2D13M6D15M1I2M1D4M</td>\n",
       "      <td>4</td>\n",
       "      <td>2</td>\n",
       "      <td>97</td>\n",
       "      <td>b.1.18.2</td>\n",
       "      <td>b.1.18.1</td>\n",
       "      <td>False</td>\n",
       "      <td>True</td>\n",
       "      <td>True</td>\n",
       "      <td>3</td>\n",
       "      <td>1</td>\n",
       "      <td>13M2D13M1I8M9D8M2D14M6D12M1I11M</td>\n",
       "      <td>3</td>\n",
       "    </tr>\n",
       "    <tr>\n",
       "      <th>264156</th>\n",
       "      <td>d2g17a2</td>\n",
       "      <td>d1vm6a2</td>\n",
       "      <td>29</td>\n",
       "      <td>0.3671</td>\n",
       "      <td>14M4I4M1D9M3I6M16I19M1D6M2I7M</td>\n",
       "      <td>3</td>\n",
       "      <td>6</td>\n",
       "      <td>92</td>\n",
       "      <td>d.81.1.1</td>\n",
       "      <td>d.81.1.3</td>\n",
       "      <td>False</td>\n",
       "      <td>True</td>\n",
       "      <td>True</td>\n",
       "      <td>1</td>\n",
       "      <td>4</td>\n",
       "      <td>15M1I5M2I13M19I27M1I11M48I12M</td>\n",
       "      <td>16</td>\n",
       "    </tr>\n",
       "    <tr>\n",
       "      <th>200578</th>\n",
       "      <td>d1xera_</td>\n",
       "      <td>d2c42a5</td>\n",
       "      <td>55</td>\n",
       "      <td>0.5075</td>\n",
       "      <td>24M17D16M1D20M2D6M</td>\n",
       "      <td>37</td>\n",
       "      <td>13</td>\n",
       "      <td>86</td>\n",
       "      <td>d.58.1.3</td>\n",
       "      <td>d.58.1.5</td>\n",
       "      <td>False</td>\n",
       "      <td>True</td>\n",
       "      <td>True</td>\n",
       "      <td>25</td>\n",
       "      <td>1</td>\n",
       "      <td>40M15D5M4D8M1I17M2D8M</td>\n",
       "      <td>12</td>\n",
       "    </tr>\n",
       "    <tr>\n",
       "      <th>66707</th>\n",
       "      <td>d1jhja_</td>\n",
       "      <td>d2vnga1</td>\n",
       "      <td>78</td>\n",
       "      <td>0.3749</td>\n",
       "      <td>7M4D2M9D7M1D3M7D3M1I6M3D23M1I10M1D3M4D5M1D7M3I...</td>\n",
       "      <td>20</td>\n",
       "      <td>2</td>\n",
       "      <td>176</td>\n",
       "      <td>b.18.1.9</td>\n",
       "      <td>b.18.1.33</td>\n",
       "      <td>False</td>\n",
       "      <td>True</td>\n",
       "      <td>True</td>\n",
       "      <td>21</td>\n",
       "      <td>1</td>\n",
       "      <td>5M1D5M1D4M3D9M8D7M13D5M1I11M1I13M6D17M5I8M8D13...</td>\n",
       "      <td>27</td>\n",
       "    </tr>\n",
       "    <tr>\n",
       "      <th>...</th>\n",
       "      <td>...</td>\n",
       "      <td>...</td>\n",
       "      <td>...</td>\n",
       "      <td>...</td>\n",
       "      <td>...</td>\n",
       "      <td>...</td>\n",
       "      <td>...</td>\n",
       "      <td>...</td>\n",
       "      <td>...</td>\n",
       "      <td>...</td>\n",
       "      <td>...</td>\n",
       "      <td>...</td>\n",
       "      <td>...</td>\n",
       "      <td>...</td>\n",
       "      <td>...</td>\n",
       "      <td>...</td>\n",
       "      <td>...</td>\n",
       "    </tr>\n",
       "    <tr>\n",
       "      <th>188345</th>\n",
       "      <td>d1wfna1</td>\n",
       "      <td>d1x3da1</td>\n",
       "      <td>236</td>\n",
       "      <td>0.6435</td>\n",
       "      <td>64M1I30M1D8M</td>\n",
       "      <td>1</td>\n",
       "      <td>1</td>\n",
       "      <td>104</td>\n",
       "      <td>b.1.2.1</td>\n",
       "      <td>b.1.2.1</td>\n",
       "      <td>True</td>\n",
       "      <td>True</td>\n",
       "      <td>True</td>\n",
       "      <td>1</td>\n",
       "      <td>1</td>\n",
       "      <td>34M1I4M1D10M1D5M1I4M1D4M2I31M1D9M</td>\n",
       "      <td>35</td>\n",
       "    </tr>\n",
       "    <tr>\n",
       "      <th>295220</th>\n",
       "      <td>d2ouxa2</td>\n",
       "      <td>d1pvma4</td>\n",
       "      <td>175</td>\n",
       "      <td>0.7099</td>\n",
       "      <td>31M5I23M6D5M1D55M</td>\n",
       "      <td>1</td>\n",
       "      <td>3</td>\n",
       "      <td>126</td>\n",
       "      <td>d.37.1.1</td>\n",
       "      <td>d.37.1.1</td>\n",
       "      <td>True</td>\n",
       "      <td>True</td>\n",
       "      <td>True</td>\n",
       "      <td>1</td>\n",
       "      <td>3</td>\n",
       "      <td>31M5I24M7D64M11D3M</td>\n",
       "      <td>18</td>\n",
       "    </tr>\n",
       "    <tr>\n",
       "      <th>49940</th>\n",
       "      <td>d1hbxg_</td>\n",
       "      <td>d1mzba_</td>\n",
       "      <td>20</td>\n",
       "      <td>0.4787</td>\n",
       "      <td>6M1D9M3I2M12I15M1I28M2D8M19D20M</td>\n",
       "      <td>4</td>\n",
       "      <td>14</td>\n",
       "      <td>126</td>\n",
       "      <td>a.4.5.21</td>\n",
       "      <td>a.4.5.42</td>\n",
       "      <td>False</td>\n",
       "      <td>True</td>\n",
       "      <td>True</td>\n",
       "      <td>1</td>\n",
       "      <td>16</td>\n",
       "      <td>14M16I4M2I14M2I24M2D12M24D24M</td>\n",
       "      <td>31</td>\n",
       "    </tr>\n",
       "    <tr>\n",
       "      <th>191465</th>\n",
       "      <td>d1wk1a_</td>\n",
       "      <td>d1qdda_</td>\n",
       "      <td>170</td>\n",
       "      <td>0.6092</td>\n",
       "      <td>11M4D19M1D19M5D11M1D14M7I25M2I18M</td>\n",
       "      <td>2</td>\n",
       "      <td>13</td>\n",
       "      <td>137</td>\n",
       "      <td>d.169.1.1</td>\n",
       "      <td>d.169.1.1</td>\n",
       "      <td>True</td>\n",
       "      <td>True</td>\n",
       "      <td>True</td>\n",
       "      <td>1</td>\n",
       "      <td>7</td>\n",
       "      <td>4M9D26M1D21M5D12M1D8M5I6M2I24M2I21M</td>\n",
       "      <td>16</td>\n",
       "    </tr>\n",
       "    <tr>\n",
       "      <th>276055</th>\n",
       "      <td>d2hv2a1</td>\n",
       "      <td>d2hv2a1</td>\n",
       "      <td>919</td>\n",
       "      <td>1.0000</td>\n",
       "      <td>107M</td>\n",
       "      <td>1</td>\n",
       "      <td>1</td>\n",
       "      <td>107</td>\n",
       "      <td>d.106.1.4</td>\n",
       "      <td>d.106.1.4</td>\n",
       "      <td>True</td>\n",
       "      <td>True</td>\n",
       "      <td>True</td>\n",
       "      <td>1</td>\n",
       "      <td>1</td>\n",
       "      <td>107M</td>\n",
       "      <td>1</td>\n",
       "    </tr>\n",
       "  </tbody>\n",
       "</table>\n",
       "<p>1000 rows × 17 columns</p>\n",
       "</div>"
      ],
      "text/plain": [
       "          query   target  bits    lddt  \\\n",
       "301063  d2ptfa1  d1i0ra_   166  0.4954   \n",
       "325597  d3bmva1  d1imhc1   110  0.6479   \n",
       "264156  d2g17a2  d1vm6a2    29  0.3671   \n",
       "200578  d1xera_  d2c42a5    55  0.5075   \n",
       "66707   d1jhja_  d2vnga1    78  0.3749   \n",
       "...         ...      ...   ...     ...   \n",
       "188345  d1wfna1  d1x3da1   236  0.6435   \n",
       "295220  d2ouxa2  d1pvma4   175  0.7099   \n",
       "49940   d1hbxg_  d1mzba_    20  0.4787   \n",
       "191465  d1wk1a_  d1qdda_   170  0.6092   \n",
       "276055  d2hv2a1  d2hv2a1   919  1.0000   \n",
       "\n",
       "                                                 cigar_fs  qstart_fs  \\\n",
       "301063        9M3I19M3D36M3D7M5D5M3I3M4D8M2D19M6I20M1I11M          7   \n",
       "325597             10M2D14M2I3M1D6M9D6M2D13M6D15M1I2M1D4M          4   \n",
       "264156                      14M4I4M1D9M3I6M16I19M1D6M2I7M          3   \n",
       "200578                                 24M17D16M1D20M2D6M         37   \n",
       "66707   7M4D2M9D7M1D3M7D3M1I6M3D23M1I10M1D3M4D5M1D7M3I...         20   \n",
       "...                                                   ...        ...   \n",
       "188345                                       64M1I30M1D8M          1   \n",
       "295220                                  31M5I23M6D5M1D55M          1   \n",
       "49940                     6M1D9M3I2M12I15M1I28M2D8M19D20M          4   \n",
       "191465                  11M4D19M1D19M5D11M1D14M7I25M2I18M          2   \n",
       "276055                                               107M          1   \n",
       "\n",
       "        tstart_fs  alnlen    q_scope    t_scope  same_fam  same_sfam  \\\n",
       "301063          1     167   b.45.1.4   b.45.1.2     False       True   \n",
       "325597          2      97   b.1.18.2   b.1.18.1     False       True   \n",
       "264156          6      92   d.81.1.1   d.81.1.3     False       True   \n",
       "200578         13      86   d.58.1.3   d.58.1.5     False       True   \n",
       "66707           2     176   b.18.1.9  b.18.1.33     False       True   \n",
       "...           ...     ...        ...        ...       ...        ...   \n",
       "188345          1     104    b.1.2.1    b.1.2.1      True       True   \n",
       "295220          3     126   d.37.1.1   d.37.1.1      True       True   \n",
       "49940          14     126   a.4.5.21   a.4.5.42     False       True   \n",
       "191465         13     137  d.169.1.1  d.169.1.1      True       True   \n",
       "276055          1     107  d.106.1.4  d.106.1.4      True       True   \n",
       "\n",
       "        same_fold  qstart_dali  tstart_dali  \\\n",
       "301063       True            9            1   \n",
       "325597       True            3            1   \n",
       "264156       True            1            4   \n",
       "200578       True           25            1   \n",
       "66707        True           21            1   \n",
       "...           ...          ...          ...   \n",
       "188345       True            1            1   \n",
       "295220       True            1            3   \n",
       "49940        True            1           16   \n",
       "191465       True            1            7   \n",
       "276055       True            1            1   \n",
       "\n",
       "                                               cigar_dali  dali_rank  \n",
       "301063  21M1I9M1D6M2D28M3D12M6D11M1D7M1D16M6I24M2D7M40I4M          9  \n",
       "325597                    13M2D13M1I8M9D8M2D14M6D12M1I11M          3  \n",
       "264156                      15M1I5M2I13M19I27M1I11M48I12M         16  \n",
       "200578                              40M15D5M4D8M1I17M2D8M         12  \n",
       "66707   5M1D5M1D4M3D9M8D7M13D5M1I11M1I13M6D17M5I8M8D13...         27  \n",
       "...                                                   ...        ...  \n",
       "188345                  34M1I4M1D10M1D5M1I4M1D4M2I31M1D9M         35  \n",
       "295220                                 31M5I24M7D64M11D3M         18  \n",
       "49940                       14M16I4M2I14M2I24M2D12M24D24M         31  \n",
       "191465                4M9D26M1D21M5D12M1D8M5I6M2I24M2I21M         16  \n",
       "276055                                               107M          1  \n",
       "\n",
       "[1000 rows x 17 columns]"
      ]
     },
     "execution_count": 92,
     "metadata": {},
     "output_type": "execute_result"
    }
   ],
   "source": [
    "sample"
   ]
  },
  {
   "cell_type": "code",
   "execution_count": 24,
   "id": "7cd6fe19",
   "metadata": {},
   "outputs": [],
   "source": [
    "def lddt_multidomain_new(d_ij, d_kl, d_mn, idx1, cutoff):\n",
    "    d = np.abs(d_kl - d_ij)\n",
    "\n",
    "    score = 0.25 * ((d < 0.5).astype(np.float32) +\n",
    "                    (d < 1.0).astype(np.float32) +\n",
    "                    (d < 2.0).astype(np.float32) +\n",
    "                    (d < 4.0).astype(np.float32))\n",
    "\n",
    "    # Note: 0 is used to masked distances\n",
    "    neighbor_mask = ((0 < d_ij) & (d_ij < cutoff)).astype(np.float32) * (1. - np.eye(len(d_ij)))\n",
    " \n",
    "    score_per_residue = np.sum(neighbor_mask * score, axis=-1)\n",
    "    norm_per_residue = np.sum((0 < d_mn) & (d_mn < cutoff), axis=-1)[idx1]\n",
    "\n",
    "    return np.mean(score_per_residue / norm_per_residue), (neighbor_mask * score, norm_per_residue)\n",
    "\n",
    "# From distance matrix to alignment score\n",
    "def lddt_score_new(aln, load_coords_fn, AL):\n",
    "    d_mat_ij, d_mat_kl, d_mn, idx1 = aligned_distance_mats_new(aln, load_coords_fn, AL)\n",
    "    return lddt_multidomain_new(d_mat_ij, d_mat_kl, d_mn, idx1, 15)\n",
    "def aligned_distance_mats_new(aln, load_coords_fn, AL, th=.51):\n",
    "    coords1,mask1 = sid2coords.get(aln['query'])\n",
    "    coords2,mask2 = sid2coords.get(aln['target'])\n",
    "    d_mat_ij = distances(coords1[:,:3], coords1[:,:3])\n",
    "    d_mat_ij[d_mat_ij > 15] = 0\n",
    "    d_mat_kl = distances(coords2[:,:3], coords2[:,:3])\n",
    "    \n",
    "    al = AL\n",
    "    \n",
    "    idx1 = np.arange(d_mat_ij.shape[0])\n",
    "        \n",
    "    #index_temp = np.argwhere(np.sum(AL > 1e2,axis = 1) == 0)\n",
    "\n",
    "    idx1 = idx1[al[:,0]]\n",
    "    \n",
    "    \n",
    "    d_mat_ij_test = d_mat_ij[:, al[:,0]]\n",
    "    d_mat_ij_test = d_mat_ij_test[al[:,0], :]\n",
    "    d_mat_kl_test = d_mat_kl[:,al[:,1]]\n",
    "    d_mat_kl_test = d_mat_kl_test[al[:,1], :]\n",
    "    \n",
    "    \n",
    "\n",
    "    # sequence distance between *aligned* query residues\n",
    "    d_mat_mn = distances_mn(coords1[:, 0:3], mask1)  # intra-molecular distances between *all* query residues\n",
    "    return d_mat_ij_test, d_mat_kl_test, d_mat_mn, idx1\n",
    "\n",
    "def align_coords(query, target, alignment):\n",
    "    coords1, mask1 = query\n",
    "    coords2, mask2 = target\n",
    "    cigar, q_start, t_start = alignment\n",
    "\n",
    "    idx1, idx2 = sautils.common.parse_cigar(cigar, query=q_start, ref=t_start, include_m=True, order_qt=True).T\n",
    "\n",
    "    # Remove masked residues from alignment\n",
    "    mask = mask1[idx1] & mask2[idx2]\n",
    "    aln_coords1 = coords1[idx1, :3][mask]  # need only CA\n",
    "    aln_coords2 = coords2[idx2, :3][mask]    \n",
    "    return (aln_coords1, aln_coords2), (idx1, idx2), (len(coords1), len(coords2))\n",
    "def distances_ij(q_points_aln, t_points_aln, cutoff=15):\n",
    "    \"\"\"intra-molecular distances with cutoff\"\"\"\n",
    "    d_ij = np.sqrt(np.sum((q_points_aln[:, None] - q_points_aln[None, :])**2, axis=-1))\n",
    "    d_kl = np.sqrt(np.sum((t_points_aln[:, None] - t_points_aln[None, :])**2, axis=-1))\n",
    "\n",
    "    neighbor_mask = (d_ij < cutoff).astype(np.float32) * (1. - np.eye(len(d_ij)))\n",
    "    return (neighbor_mask * d_ij, neighbor_mask * d_kl)\n",
    "\n",
    "def distances_mn(coords, mask):\n",
    "    \"\"\"Intra-molecular distances between all residues.\n",
    "       Residue coords can be NaN.\n",
    "    \"\"\"\n",
    "    d_mn = np.sqrt(np.sum((coords[:, None] - coords[None, :])**2, axis=-1))\n",
    "    d_mn[~mask, :] = 0\n",
    "    d_mn[:, ~mask] = 0\n",
    "    return d_mn"
   ]
  },
  {
   "cell_type": "code",
   "execution_count": 25,
   "id": "14d555e2",
   "metadata": {},
   "outputs": [],
   "source": [
    "ite = -1\n",
    "all_lddt_dali = np.zeros([1,1000])\n",
    "for q,t,qstart,tstart,cigar in zip(sample['query'].values, sample['target'].values, sample['qstart_dali'].values, sample['tstart_dali'].values, sample['cigar_dali'].values):\n",
    "    ite += 1\n",
    "    example_alignment = {'query': q,\n",
    "                     'target': t}\n",
    "    \n",
    "    coords1, mask1 = sid2coords.get(q)\n",
    "    coords2, mask2 = sid2coords.get(t)    \n",
    "    (aln_coords1, aln_coords2), (idx1, idx2), (len1, len2) =\\\n",
    "            align_coords((coords1, mask1),\n",
    "                         (coords2, mask2),\n",
    "                         (cigar, qstart, tstart))\n",
    "    for j in range(1):\n",
    "        #P = fb_local(S, go, ge, 5, pre)\n",
    "        #lddt_lol.append(lddt_score_new(example_alignment, sid2coords.get, P)[0])\n",
    "        if q == t:\n",
    "            all_lddt_dali[:,ite] = 1\n",
    "            #break\n",
    "        all_lddt_dali[j,ite] = lddt_score_new(example_alignment, sid2coords.get, np.array([idx1,idx2]).T)[0]\n",
    "        "
   ]
  },
  {
   "cell_type": "code",
   "execution_count": 26,
   "id": "751c84c5",
   "metadata": {},
   "outputs": [],
   "source": [
    "i = -1\n",
    "all_lddt_init = np.zeros([10,1000])\n",
    "for q,t in zip(sample['query'].values, sample['target'].values):\n",
    "    i += 1\n",
    "    example_alignment = {'query': q,\n",
    "                     'target': t}\n",
    "    for j in range(10):\n",
    "        \n",
    "        #P = fb_local(S, go, ge, 5, pre)\n",
    "        #lddt_lol.append(lddt_score_new(example_alignment, sid2coords.get, P)[0])\n",
    "        if q == t:\n",
    "            all_lddt_init[:,i] = 1\n",
    "            break\n",
    "            \n",
    "        all_lddt_init[j,i] = lddt_score_new(example_alignment, sid2coords.get, sens_alig.alignments[q+\"_\"+t + str(j)])[0]\n",
    "        \n",
    "    #print(q,t,lddt_dali[i], lddt_lol[i])"
   ]
  },
  {
   "cell_type": "code",
   "execution_count": 27,
   "id": "040c77a9",
   "metadata": {},
   "outputs": [
    {
     "data": {
      "text/plain": [
       "Text(0, 0.5, 'LDDT score Prosa')"
      ]
     },
     "execution_count": 27,
     "metadata": {},
     "output_type": "execute_result"
    },
    {
     "data": {
      "image/png": "[encoded data removed]",
      "text/plain": [
       "<Figure size 640x480 with 1 Axes>"
      ]
     },
     "metadata": {},
     "output_type": "display_data"
    }
   ],
   "source": [
    "plt.scatter(sample[\"lddt\"].values, np.max(all_lddt_init, axis = 0))\n",
    "plt.plot([[0,0],[1,1]])\n",
    "plt.xlabel('LDDT score Foldseek')\n",
    "plt.ylabel('LDDT score Prosa')\n"
   ]
  },
  {
   "cell_type": "code",
   "execution_count": 28,
   "id": "d1b4253e",
   "metadata": {},
   "outputs": [
    {
     "data": {
      "text/plain": [
       "Text(0, 0.5, 'LDDT score Prosa')"
      ]
     },
     "execution_count": 28,
     "metadata": {},
     "output_type": "execute_result"
    },
    {
     "data": {
      "image/png": "[encoded data removed]",
      "text/plain": [
       "<Figure size 640x480 with 1 Axes>"
      ]
     },
     "metadata": {},
     "output_type": "display_data"
    }
   ],
   "source": [
    "plt.scatter(np.max(all_lddt_dali, axis = 0), np.max(all_lddt_init, axis = 0))\n",
    "plt.plot([[0,0],[1,1]])\n",
    "#plt.title(\"LDDT-Score\")\n",
    "plt.xlabel('LDDT score Dali')\n",
    "plt.ylabel('LDDT score Prosa')"
   ]
  },
  {
   "cell_type": "code",
   "execution_count": 157,
   "id": "0e4b1604",
   "metadata": {},
   "outputs": [
    {
     "data": {
      "text/plain": [
       "-0.018105929988675128"
      ]
     },
     "execution_count": 157,
     "metadata": {},
     "output_type": "execute_result"
    }
   ],
   "source": [
    "(np.max(all_lddt_dali, axis = 0) - np.max(all_lddt_init, axis = 0)).mean()"
   ]
  },
  {
   "cell_type": "code",
   "execution_count": 130,
   "id": "fcdc5b9b",
   "metadata": {},
   "outputs": [
    {
     "data": {
      "text/plain": [
       "Text(0, 0.5, 'New alignments')"
      ]
     },
     "execution_count": 130,
     "metadata": {},
     "output_type": "execute_result"
    },
    {
     "data": {
      "image/png": "[encoded data removed]",
      "text/plain": [
       "<Figure size 640x480 with 1 Axes>"
      ]
     },
     "metadata": {},
     "output_type": "display_data"
    }
   ],
   "source": [
    "plt.scatter(np.max(all_lddt_dali, axis = 0), sample[\"lddt\"].values)\n",
    "plt.plot([[0,0],[1,1]])\n",
    "#plt.title(\"LDDT-Score\")\n",
    "plt.xlabel('Dali alignments')\n",
    "plt.ylabel('New alignments')"
   ]
  },
  {
   "cell_type": "code",
   "execution_count": null,
   "id": "0991e582",
   "metadata": {},
   "outputs": [],
   "source": []
  }
 ],
 "metadata": {
  "kernelspec": {
   "display_name": "Python 3 (ipykernel)",
   "language": "python",
   "name": "python3"
  },
  "language_info": {
   "codemirror_mode": {
    "name": "ipython",
    "version": 3
   },
   "file_extension": ".py",
   "mimetype": "text/x-python",
   "name": "python",
   "nbconvert_exporter": "python",
   "pygments_lexer": "ipython3",
   "version": "3.11.3"
  }
 },
 "nbformat": 4,
 "nbformat_minor": 5
}
