{
 "cells": [
  {
   "cell_type": "code",
   "execution_count": 4,
   "id": "a6b224b9",
   "metadata": {},
   "outputs": [],
   "source": [
    "import numpy as np\n",
    "import matplotlib.pyplot as plt\n",
    "import os.path\n",
    "from scipy.spatial.distance import cdist\n",
    "import time\n",
    "from tqdm import tqdm\n",
    "%load_ext autoreload\n",
    "%autoreload 1\n",
    "#%aimport __pycache__.lddt.cpython-39\n",
    "%aimport sautils.encoder_commons\n",
    "%aimport sautils.common\n",
    "%aimport torch\n",
    "import pandas as pd\n",
    "import numba\n",
    "from skopt import dump, load\n",
    "import xmlrpc.client as xmlrpclib\n",
    "cmd = xmlrpclib.ServerProxy(f'http://localhost:9123')\n",
    "\n",
    "#conda activate pymol_comp\n",
    "#export LD_PRELOAD=/usr/lib/x86_64-linux-gnu/libstdc++.so.6\n",
    "#pymol -R"
   ]
  },
  {
   "cell_type": "code",
   "execution_count": 5,
   "id": "afbf3530",
   "metadata": {},
   "outputs": [],
   "source": [
    "def show_aln(pdb_dir, aln, color_aln=False, read_alignment=True):\n",
    "    qname = aln['query']\n",
    "    tname = aln['target']\n",
    "    qstart = aln['qstart']\n",
    "    tstart = aln['tstart']\n",
    "    cmd.do('import psico; psico.init()')\n",
    "\n",
    "    if read_alignment:\n",
    "        qaln = aln['qaln']\n",
    "        taln = aln['taln']                \n",
    "        with open('/tmp/align.txt', 'w') as file:    \n",
    "            file.write('>\\n')\n",
    "            file.write((qstart-1) * 'X' + (tstart-1) * '-' + qaln + '\\n')\n",
    "            file.write('>\\n')\n",
    "            file.write((qstart-1) * '-' + (tstart-1) * 'X' + taln + '\\n')\n",
    "\n",
    "    cmd.reinitialize()\n",
    "    cmd.do('set mouse_selection_mode, 6')\n",
    "\n",
    "    cmd.load(pdb_dir + qname + '.ent')\n",
    "    cmd.load(pdb_dir + tname + '.ent')        \n",
    "    cmd.do('set seq_view, 1')\n",
    "    #cmd.do(f\"super {tname}, {qname}\")\n",
    "    if read_alignment:\n",
    "        cmd.do(f\"tmalign {qname}, {tname}, object=aln, args=-I /tmp/align.txt\")\n",
    "    else:\n",
    "        cmd.do(f\"tmalign {qname}, {tname}, object=aln\")\n",
    "    cmd.zoom(qname)\n",
    "\n",
    "    if color_aln:\n",
    "        if isinstance(color_aln, tuple):\n",
    "            color_q = color_aln[0]\n",
    "            color_t = color_aln[1]\n",
    "        else:\n",
    "            color_q = color_aln\n",
    "            color_t = color_aln\n",
    "        for (tname, j), (qname, i) in cmd.get_raw_alignment('aln'):\n",
    "            cmd.color(color_q, f'model {qname} and index {i}')\n",
    "            cmd.color(color_t, f'model {tname} and index {j}')"
   ]
  },
  {
   "cell_type": "code",
   "execution_count": 6,
   "id": "0e27d0aa",
   "metadata": {},
   "outputs": [],
   "source": [
    "def prep_pymol(P):\n",
    "    i = P.shape[0]-1\n",
    "    j = P.shape[1]-1\n",
    "\n",
    "    current_aligned_seq1 = ''\n",
    "    current_aligned_seq2 = ''\n",
    "    aligned_seq1 = ''\n",
    "    aligned_seq2 = ''\n",
    "    while i != -1 and j != -1:\n",
    "        if P[i,j] == 1:\n",
    "            current_aligned_seq1 = 'X' \n",
    "            current_aligned_seq2 = 'X'\n",
    "            i = i - 1\n",
    "            j = j - 1\n",
    "\n",
    "        elif np.any(P[i,:j]):\n",
    "            current_aligned_seq1 = 'X'\n",
    "            current_aligned_seq2 = '-'\n",
    "            j = j - 1    \n",
    "\n",
    "        elif np.any(P[:i, j]):\n",
    "            current_aligned_seq1 = '-'\n",
    "            current_aligned_seq2 = 'X'\n",
    "            i = i - 1\n",
    "        else:\n",
    "            current_aligned_seq1 = '-x' \n",
    "            current_aligned_seq2 = 'x-'\n",
    "            i = i - 1\n",
    "            j = j - 1\n",
    "        aligned_seq1 = aligned_seq1 + current_aligned_seq1\n",
    "        aligned_seq2 = aligned_seq2 + current_aligned_seq2\n",
    "\n",
    "    while i != -1:\n",
    "        aligned_seq1 += '-'\n",
    "        aligned_seq2 += 'X'\n",
    "        i -=1\n",
    "    while j != -1:\n",
    "        aligned_seq1 += 'X'\n",
    "        aligned_seq2 += '-'\n",
    "        j -=1\n",
    "\n",
    "        # Reversing the order of the sequences\n",
    "    aligned_seq1 = aligned_seq1[::-1]\n",
    "    aligned_seq2 = aligned_seq2[::-1]\n",
    "    \n",
    "    return aligned_seq1, aligned_seq2\n",
    "    "
   ]
  },
  {
   "cell_type": "code",
   "execution_count": 7,
   "id": "a51ce569",
   "metadata": {},
   "outputs": [],
   "source": [
    "sid2seq_ss = {}\n",
    "with open('data/ss.fasta') as file:\n",
    "    sid = ''\n",
    "    for line in file:\n",
    "        line = line.lstrip('>').rstrip('\\n')\n",
    "        if not sid:\n",
    "            sid = line\n",
    "        else:\n",
    "            sid2seq_ss[sid] = line.upper()\n",
    "            sid = ''\n",
    "sid2seq_aa = {}\n",
    "with open('data/aa.fasta') as file:\n",
    "    sid = ''\n",
    "    for line in file:\n",
    "        line = line.lstrip('>').rstrip('\\n')\n",
    "        if not sid:\n",
    "            sid = line\n",
    "        else:\n",
    "            sid2seq_aa[sid] = line.upper()\n",
    "            sid = ''\n",
    "mat3di = np.load('data/mat3di.npy') * 2.1\n",
    "blosum = np.load('data/blosum62.npy') * 1.4\n",
    "with open('data/mat3di.out') as f:\n",
    "    lines = f.readlines()\n",
    "i2a = lines[3].split()\n",
    "def seq2num(q):\n",
    "    idx = []\n",
    "    for a in q:\n",
    "        idx.append(i2a.index(a))\n",
    "    return np.array(idx)\n",
    "    \n",
    "def calcS_np(ss1,ss2 ,aa1, aa2,mat3di, blosum):\n",
    "    ss1 = seq2num(ss1)\n",
    "    ss2 = seq2num(ss2)\n",
    "    aa1 = seq2num(aa1)\n",
    "    aa2 = seq2num(aa2)\n",
    "    comb_array_ss = np.array(np.meshgrid(ss1, ss2)).T.reshape(-1, 2)\n",
    "    comb_array_aa = np.array(np.meshgrid(aa1, aa2)).T.reshape(-1, 2)\n",
    "    S = (mat3di[comb_array_ss[:,0],comb_array_ss[:,1]].reshape(len(ss1),-1)) + blosum[comb_array_aa[:,0],comb_array_aa[:,1]].reshape(len(aa1),-1)\n",
    "    return S\n",
    "def distances(q_points_aln, t_points_aln):\n",
    "    d_mat = cdist(q_points_aln, t_points_aln)\n",
    "    return (d_mat)"
   ]
  },
  {
   "cell_type": "code",
   "execution_count": 8,
   "id": "ec605ede",
   "metadata": {},
   "outputs": [],
   "source": [
    "coord_dir = 'data/pdb/d*'\n",
    "if not os.path.exists(coord_dir):\n",
    "    print('Creating cache first.')\n",
    "    sautils.encoder_commons.init_coords('data/pdb/d*', coord_dir)\n",
    "sid2coords = {sid: sautils.encoder_commons.read_coords(coord_dir, sid) for sid in sautils.encoder_commons.list_sids(coord_dir)}"
   ]
  },
  {
   "cell_type": "code",
   "execution_count": 9,
   "id": "4dd00ead",
   "metadata": {},
   "outputs": [],
   "source": [
    "@numba.jit(nopython=True)\n",
    "def fill_dp_matrix(scores, gap_open, gap_extend):\n",
    "    l1, l2 = scores.shape\n",
    "    s, q_gap, t_gap = np.zeros((l1+1, l2+1)), np.zeros((l1+1, l2+1)), np.zeros((l1+1, l2+1))\n",
    "    for i in range(1, l1+1):\n",
    "        for j in range(1, l2+1):\n",
    "            q_gap[i, j] = max(q_gap[i, j-1] - gap_extend, s[i, j-1] - gap_open)\n",
    "            t_gap[i, j] = max(t_gap[i-1, j] - gap_extend, s[i-1, j] - gap_open)\n",
    "            s[i, j] = max(0,\n",
    "                          q_gap[i, j],\n",
    "                          t_gap[i, j],\n",
    "                          s[i-1, j-1] + scores[i-1, j-1])\n",
    "    return s, q_gap, t_gap\n",
    "\n",
    "def backtrace_alignment(scores, gap_open, gap_extend, s, q_gap, t_gap):\n",
    "    S_MAT, QGAP_MAT, TGAP_MAT = 0, 1, 2\n",
    "    arg_max = np.where(s == s.max())\n",
    "    i, j, pos = arg_max[0][0], arg_max[1][0], S_MAT\n",
    "    backtrace = []\n",
    "    while (s[i, j] > 0 or pos != S_MAT) and (i > 0 and j > 0):\n",
    "        if pos == S_MAT:\n",
    "            if s[i, j] == q_gap[i, j]:\n",
    "                if q_gap[i,j] == q_gap[i, j-1] - gap_extend:\n",
    "                    pos = QGAP_MAT\n",
    "                j = j - 1       \n",
    "            elif s[i, j] == t_gap[i, j]:\n",
    "                if t_gap[i,j] == t_gap[i-1, j] - gap_extend:\n",
    "                    pos = TGAP_MAT\n",
    "                i = i - 1\n",
    "            elif s[i,j] == s[i-1, j-1] + scores[i-1, j-1]:\n",
    "                backtrace.append((i,j))\n",
    "                i, j = i - 1, j - 1                \n",
    "            else:\n",
    "                break        \n",
    "        elif pos == QGAP_MAT:\n",
    "            if q_gap[i, j] == s[i, j-1] - gap_open:\n",
    "                pos = S_MAT\n",
    "            j = j - 1\n",
    "            \n",
    "        elif pos == TGAP_MAT:\n",
    "            if t_gap[i, j] == s[i-1, j] - gap_open:\n",
    "                pos = S_MAT\n",
    "            i = i - 1\n",
    "    return list(reversed([(i-1, j-1) for i, j in backtrace]))\n",
    "\n",
    "def sw_align(scores, gap_open=30, gap_extend=10):    \n",
    "    s, q_gap, t_gap = fill_dp_matrix(scores, gap_open, gap_extend)\n",
    "    backtrace = backtrace_alignment(scores, gap_open, gap_extend, s, q_gap, t_gap)\n",
    "    return backtrace, (s, q_gap, t_gap)\n",
    "\n",
    "def format_aln(seq1, seq2, bt):\n",
    "    s1, s2 = '', ''\n",
    "    i_prev, j_prev = None, None\n",
    "    for i, j in bt:        \n",
    "        if i_prev is not None:\n",
    "            s1 += seq1[i_prev+1:i] + '-' * len(seq2[j_prev+1:j])\n",
    "            s2 += '-' * len(seq1[i_prev+1:i]) + seq2[j_prev+1:j]                \n",
    "        s1 += seq1[i]\n",
    "        s2 += seq2[j]\n",
    "        i_prev, j_prev = i, j\n",
    "    return s1, s2"
   ]
  },
  {
   "cell_type": "code",
   "execution_count": 10,
   "id": "89b85782",
   "metadata": {},
   "outputs": [],
   "source": [
    "def fb_local(S, go, ge, T, pre):\n",
    "    S_exp = np.exp(S/T, dtype = pre)\n",
    "    S_hat = S_exp[::-1,::-1]\n",
    "\n",
    "    vj = np.exp(np.linspace((S.shape[1]-1)*ge + go, go, S.shape[1], dtype = pre)/T, dtype = pre)\n",
    "    wj = np.exp(np.linspace((S.shape[1]-1)*ge , 0, S.shape[1], dtype = pre) /T, dtype = pre)\n",
    "    #vj = np.exp(np.arange((S.shape[1]-1)*ge + go ,go-ge, -ge, dtype = pre)/T)\n",
    "    #wj = np.exp((np.arange((S.shape[1]-1)*ge , -ge, -ge, dtype = pre)) /T)\n",
    "    zm, ze, zf = forward_backward_plain_local(S_exp, vj, wj, T, go, ge, pre)\n",
    "    zm_hat, ze_hat, zf_hat = forward_backward_plain_local(S_hat, vj, wj, T, go, ge, pre)\n",
    "\n",
    "    P = ((zm*(zm_hat[::-1,::-1]))/(1 + np.sum(zm))) * np.exp(-S/T, dtype = pre)\n",
    "    \n",
    "    return P\n",
    "    \n",
    "def fb_global(S, go, ge, T, pre):\n",
    "    S_exp = np.exp(S/T, dtype = pre)\n",
    "    S_hat = S_exp[::-1,::-1]\n",
    "\n",
    "    vj = np.exp(np.linspace((S.shape[1]-1)*ge + go, go, S.shape[1])/T, dtype = pre)\n",
    "    wj = np.exp(np.linspace((S.shape[1]-1)*ge , 0, S.shape[1]) /T, dtype = pre)\n",
    "    zm, ze, zf = forward_backward_plain_global(S_exp, vj, wj, T, go, ge, pre)\n",
    "    zm_hat, ze_hat, zf_hat = forward_backward_plain_global(S_hat, vj, wj, T, go, ge, pre)\n",
    "\n",
    "    P = (zm*(zm_hat[::-1,::-1]))/ (zm[-1,-1]+ze[-1,-1] +zf[-1,-1]) * np.exp(-S/T, dtype = pre)\n",
    "    \n",
    "    return P\n",
    "def fb_local_global(S, go, ge, T, pre):\n",
    "    S_exp = np.exp(S/T, dtype = pre)\n",
    "    S_hat = S_exp[::-1,::-1]\n",
    "\n",
    "    vj = np.exp(np.linspace((S.shape[1]-1)*ge + go, go, S.shape[1])/T, dtype = pre)\n",
    "    wj = np.exp(np.linspace((S.shape[1]-1)*ge , 0, S.shape[1]) /T, dtype = pre)\n",
    "    zm, ze, zf = forward_backward_plain_local(S_exp, vj, wj, T, go, ge, pre)\n",
    "    zm_hat, ze_hat, zf_hat = forward_backward_plain_global(S_hat, vj, wj, T, go, ge, pre)\n",
    "\n",
    "    P = (zm*(zm_hat[::-1,::-1]))/ (zm[-1,-1]+ze[-1,-1] +zf[-1,-1])* np.exp(-S/T, dtype = pre)\n",
    "    \n",
    "    return P\n",
    "    \n",
    "def fb_global_local(S, go, ge, T, pre):\n",
    "    S_exp = np.exp(S/T, dtype = pre)\n",
    "    S_hat = S_exp[::-1,::-1]\n",
    "\n",
    "    vj = np.exp(np.linspace((S.shape[1]-1)*ge + go, go, S.shape[1])/T, dtype = pre)\n",
    "    wj = np.exp(np.linspace((S.shape[1]-1)*ge , 0, S.shape[1]) /T, dtype = pre)\n",
    "    zm, ze, zf = forward_backward_plain_global(S_exp, vj, wj, T, go, ge, pre)\n",
    "    zm_hat, ze_hat, zf_hat = forward_backward_plain_local(S_hat, vj, wj, T, go, ge, pre)\n",
    "\n",
    "    P = (zm*(zm_hat[::-1,::-1]))/ np.sum(zm) * np.exp(-S/T)\n",
    "    \n",
    "    return P"
   ]
  },
  {
   "cell_type": "code",
   "execution_count": 11,
   "id": "ee7e9f07",
   "metadata": {},
   "outputs": [],
   "source": [
    "def forward_backward_plain_local(S, vj, wj, T, go, ge, pre):\n",
    "    exp_go = np.exp(go/T)\n",
    "    exp_ge = np.exp(ge/T)\n",
    "    zm = np.zeros((S.shape[0]+1, S.shape[1]+1), dtype = pre)\n",
    "    ze = np.zeros((S.shape[0]+1, S.shape[1]+1), dtype = pre)\n",
    "    zf = np.zeros((S.shape[0]+1, S.shape[1]+1), dtype = pre)\n",
    "    \n",
    "    #This is the main part where we calculate the Z matrices with one for loop over each row\n",
    "    for i in range(1,S.shape[0]+1):\n",
    "        zm[i,1:] = ((zm[i-1,:-1] + ze[i-1,:-1] + zf[i-1,:-1] + 1) *S[i-1,:])\n",
    "        # this is the new part where ze is calculated using cumsum \n",
    "        ze[i,1:] = (np.cumsum(zm[i,:-1] * vj)/wj) \n",
    "        zf[i,1:] = (zm[i-1,1:] * exp_go + zf[i-1,1:] * exp_ge)\n",
    "    #at the end we only need to return zm but for testing i returned all\n",
    "    return zm[1:,1:], ze[1:,1:], zf[1:,1:]\n",
    "\n",
    "def forward_backward_plain_global(S, vj, wj, T, go, ge, pre):\n",
    "    exp_go = np.exp(go/T)\n",
    "    exp_ge = np.exp(ge/T)\n",
    "    zm = np.zeros((S.shape[0]+1, S.shape[1]+1), dtype = pre)\n",
    "    ze = np.zeros((S.shape[0]+1, S.shape[1]+1), dtype = pre)\n",
    "    zf = np.zeros((S.shape[0]+1, S.shape[1]+1), dtype = pre)\n",
    "    \n",
    "    zm[0,0] = 1\n",
    "    ze[0,1:] = np.exp(np.linspace(go,go+(ge*(S.shape[1]-1)),S.shape[1])/T, dtype = pre)\n",
    "\n",
    "    #exp_ge_arr = np.exp((np.arange(ge, (S.shape[1] + 1)* ge ,ge,dtype = pre))/T, dtype = pre)\n",
    "                        \n",
    "    for i in range(1,S.shape[0]+1):\n",
    "        zm[i,1:] = (zm[i-1, :-1] + ze[i-1,:-1] + zf[i-1,:-1]) * S[i-1,:]\n",
    "        ze[i,1:] = (np.cumsum(zm[i,:-1] * vj)/wj) #+  * exp_ge_arr\n",
    "        zf[i,:] = zm[i-1,:] * exp_go + zf[i-1,:] * exp_ge\n",
    "    return zm[1:,1:], ze[1:,1:], zf[1:,1:]"
   ]
  },
  {
   "cell_type": "code",
   "execution_count": 12,
   "id": "f85b61e9",
   "metadata": {},
   "outputs": [],
   "source": [
    "def forward_backward_plain_local(S, vj, wj, T, go, ge, pre):\n",
    "    exp_go = np.exp(go/T)\n",
    "    exp_ge = np.exp(ge/T)\n",
    "    zm = np.zeros((S.shape[0]+1, S.shape[1]+1), dtype = pre)\n",
    "    ze = np.zeros((S.shape[0]+1, S.shape[1]+1), dtype = pre)\n",
    "    zf = np.zeros((S.shape[0]+1, S.shape[1]+1), dtype = pre)\n",
    "    \n",
    "    #This is the main part where we calculate the Z matrices with one for loop over each row\n",
    "    for i in range(1,S.shape[0]+1):\n",
    "        zm[i,1:] = ((zm[i-1,:-1] + ze[i-1,:-1] + zf[i-1,:-1] + 1) *S[i-1,:])\n",
    "        # this is the new part where ze is calculated using cumsum \n",
    "        ze[i,1:] = (np.cumsum(zm[i,:-1] * vj)/wj) \n",
    "        zf[i,1:] = (zm[i-1,1:] * exp_go + zf[i-1,1:] * exp_ge)\n",
    "    #at the end we only need to return zm but for testing i returned all\n",
    "    return zm[1:,1:], ze[1:,1:], zf[1:,1:]\n",
    "def fb_local(S, go, ge, T, pre):\n",
    "    S_exp = np.exp(S/T, dtype = pre)\n",
    "    S_hat = S_exp[::-1,::-1]\n",
    "\n",
    "    vj = np.exp(np.linspace((S.shape[1]-1)*ge + go, go, S.shape[1], dtype = pre)/T, dtype = pre)\n",
    "    wj = np.exp(np.linspace((S.shape[1]-1)*ge , 0, S.shape[1], dtype = pre) /T, dtype = pre)\n",
    "    #vj = np.exp(np.arange((S.shape[1]-1)*ge + go ,go-ge, -ge, dtype = pre)/T)\n",
    "    #wj = np.exp((np.arange((S.shape[1]-1)*ge , -ge, -ge, dtype = pre)) /T)\n",
    "    zm, ze, zf = forward_backward_plain_local(S_exp, vj, wj, T, go, ge, pre)\n",
    "    zm_hat, ze_hat, zf_hat = forward_backward_plain_local(S_hat, vj, wj, T, go, ge, pre)\n",
    "\n",
    "    P = ((zm*(zm_hat[::-1,::-1]))/(1 + np.sum(zm))) * np.exp(-S/T, dtype = pre)\n",
    "    \n",
    "    return P"
   ]
  },
  {
   "cell_type": "code",
   "execution_count": 13,
   "id": "623df41c",
   "metadata": {},
   "outputs": [],
   "source": [
    "@numba.njit\n",
    "def lol_score_approx(d_ij, d_kl, d_seq):\n",
    "    seq_distance_feat = np.sign(d_seq) * np.log(1 + np.abs(d_seq))\n",
    "    x = np.empty((d_ij.shape[0],2))\n",
    "    x[:,0] = seq_distance_feat#[:, None]\n",
    "    x[:,1] = np.abs(d_ij-d_kl)#[:, None]\n",
    "    #x = np.hstack([seq_distance_feat[:, None], np.abs(d_ij-d_kl)[:, None],])\n",
    "\n",
    "    w1 = np.array([[-1.3584513e-04,  9.9329501e-01],\n",
    "                   [ 7.6149112e-01,  5.7029408e-01],\n",
    "                   [-8.1348085e-01,  6.0702705e-01]])\n",
    "    b1 = np.array([0.7043129 , 0.374659  , 0.39905924])\n",
    "    w2 = np.array([[-0.776632  ,  0.61055756,  0.5823986 ]])\n",
    "    b2 = np.array([-0.11200039])\n",
    "\n",
    "    hidden_layer = ((x @ w1.T) + b1)\n",
    "    hidden_layer *= (hidden_layer > 0)  # if w1 is all positive, we dont need this ReLU\n",
    "    score = (hidden_layer @ w2.T) + b2\n",
    "    return score"
   ]
  },
  {
   "cell_type": "code",
   "execution_count": 14,
   "id": "739ff029",
   "metadata": {},
   "outputs": [],
   "source": [
    "def calc_startAnchors(S, fb_go, fb_ge, temp, le):\n",
    "    start_anchors = []\n",
    "    for i in range(10):\n",
    "        P = fb_local(S, fb_go, fb_ge, temp, np.longdouble)\n",
    "        x,y = np.unravel_index(np.argmax(P), P.shape)\n",
    "        x,y = np.max([0,x-le]), np.max([0,y-le])\n",
    "        #P -= np.max([0 ,np.max(P)-shift])\n",
    "        bt, (s, q_gap, t_gap) = sw_align(np.array(P[x:x+(le*2),y:y+(le*2)], dtype = np.double), gap_open = 0, gap_extend=0)\n",
    "        bt = np.array(bt)\n",
    "        bt[:,0] += x\n",
    "        bt[:,1] += y\n",
    "        start_anchors.append(np.copy(bt))\n",
    "        S[bt[:,0], bt[:,1]] = - 100\n",
    "    return start_anchors"
   ]
  },
  {
   "cell_type": "code",
   "execution_count": 15,
   "id": "3aca2df4",
   "metadata": {},
   "outputs": [],
   "source": [
    "def get_gaps(A_all):\n",
    "    lowerBounds_i = (A_all[:,0]+1)[:-1]\n",
    "    upperBounds_i = (A_all[:,0]-1)[1:]\n",
    "    lowerBounds_k = (A_all[:,1]+1)[:-1]\n",
    "    upperBounds_k = (A_all[:,1]-1)[1:]\n",
    "    mask_i = lowerBounds_i<=upperBounds_i\n",
    "    mask_k = lowerBounds_k<=upperBounds_k\n",
    "    mask = np.logical_and(mask_i,  mask_k)\n",
    "    return np.array([np.sort(np.array([lowerBounds_i[mask],upperBounds_i[mask]+1]).reshape(-1)),\n",
    "                    np.sort(np.array([lowerBounds_k[mask],upperBounds_k[mask]+1]).reshape(-1))])"
   ]
  },
  {
   "cell_type": "code",
   "execution_count": 16,
   "id": "973e9da7",
   "metadata": {},
   "outputs": [],
   "source": [
    "def lol_matrix_gap_dist_aprox(A, All_a, gaps,d_mat_ij, d_mat_kl):\n",
    "\n",
    "    ti, tk, tidx = lol_matrix_prep_gaps(A, All_a, gaps, d_mat_ij, d_mat_kl)\n",
    "    idx = np.logical_and(ti > 0, tk > 0)\n",
    "    G_mat = np.zeros_like(ti)\n",
    "    G_mat[idx] += np.squeeze(np.nan_to_num(lol_score_approx(ti[idx], tk[idx], tidx[idx])))\n",
    "    return G_mat.reshape(gaps[0,1]-gaps[0,0], gaps[1,1]-gaps[1,0], -1).sum(axis=2)"
   ]
  },
  {
   "cell_type": "code",
   "execution_count": 17,
   "id": "cb5e4e69",
   "metadata": {},
   "outputs": [],
   "source": [
    "def lol_matrix_prep_gaps(A, All_a, gaps,d_mat_ij, d_mat_kl):\n",
    "    #print(d_mat_ij[:,gaps[0,0]:gaps[0,1]].shape, d_mat_kl[:,gaps[1,0]:gaps[1,1]].shape)\n",
    "    d_ij, d_kl = np.array(d_mat_ij[A[:,0],gaps[0,0]:gaps[0,1]]), np.array(d_mat_kl[A[:,1],gaps[1,0]:gaps[1,1]])\n",
    "    ti = np.repeat(d_ij.T, gaps[1,1] - gaps[1,0], axis = 0).reshape(-1)\n",
    "    tk = np.repeat(d_kl.T.reshape(-1,1), gaps[0,1]-gaps[0,0], axis = 1).T.reshape(-1)\n",
    "    tidx = np.repeat(A[:,0].reshape(1,-1), d_ij.shape[1] * d_kl.shape[1], axis = 0).reshape(-1)\n",
    "    #print(ti.shape, tk.shape, tidx.shape, np.repeat(np.arange(gaps[0,0],gaps[0,1]), (gaps[1,1]-gaps[1,0]) * A.shape[0]).shape)\n",
    "    tidx = tidx - np.repeat(np.arange(gaps[0,0],gaps[0,1]), (gaps[1,1]-gaps[1,0]) * A.shape[0])\n",
    "\n",
    "    return ti, tk, tidx"
   ]
  },
  {
   "cell_type": "code",
   "execution_count": 18,
   "id": "5bb54cbf",
   "metadata": {},
   "outputs": [],
   "source": [
    "def align(S, startAnchors, go, ge, min_m, red_m, temp, red_t, d_mat_ij, d_mat_kl):\n",
    "    S_all = []\n",
    "    ap_all = []\n",
    "    pre = np.longdouble\n",
    "    lol_matrix_prep = lol_matrix_prep_gaps\n",
    "    for j in range(10):\n",
    "        num_all = 0\n",
    "        th = .99\n",
    "        tempr = temp\n",
    "        S = np.zeros_like(S, dtype = pre)\n",
    "        A_new = startAnchors[j]\n",
    "        A_all = startAnchors[j]\n",
    "\n",
    "        for i in (range(1000)):\n",
    "            #S[A_all[:,0], A_all[:,1]] = 1e2\n",
    "            gaps_idn = get_gaps(np.unique(np.concatenate((np.array([-1,-1]).reshape(1,2), A_all, np.array([S.shape[0], S.shape[1]]).reshape(1,2))), axis = 0))\n",
    "            P = np.zeros_like(S)\n",
    "            \n",
    "            #for g in range(0, gaps_idn.shape[1], 2):\n",
    "            #    S[gaps_idn[0,g]:gaps_idn[0,g+1],gaps_idn[1,g]:gaps_idn[1,g+1]] += lol_matrix_gap_dist_aprox(A_new, A_all, gaps_idn[:,g:g+2] ,d_mat_ij, d_mat_kl)\n",
    "            S += lol_matrix_gap_dist_aprox(A_new, A_all, np.array([[0,0],[S.shape[0], S.shape[1]]]).T ,d_mat_ij, d_mat_kl)\n",
    "            for g in range(0, gaps_idn.shape[1], 2):\n",
    "                P[gaps_idn[0,g]:gaps_idn[0,g+1],gaps_idn[1,g]:gaps_idn[1,g+1]] = fb_global(S[gaps_idn[0,g]:gaps_idn[0,g+1],gaps_idn[1,g]:gaps_idn[1,g+1]], go, ge, tempr, pre)\n",
    "                if (g == 0 and gaps_idn[0,g] == 0 and gaps_idn[1,g] == 0):\n",
    "                    P[gaps_idn[0,g]:gaps_idn[0,g+1],gaps_idn[1,g]:gaps_idn[1,g+1]] = fb_local_global(S[gaps_idn[0,g]:gaps_idn[0,g+1],gaps_idn[1,g]:gaps_idn[1,g+1]], go, ge, tempr, pre)\n",
    "                elif(g == (gaps_idn.shape[1]-2), gaps_idn[0,g+1] == S.shape[0], gaps_idn[1,g+1] == S.shape[1]):\n",
    "                    P[gaps_idn[0,g]:gaps_idn[0,g+1],gaps_idn[1,g]:gaps_idn[1,g+1]] = fb_local_global(S[gaps_idn[0,g]:gaps_idn[0,g+1],gaps_idn[1,g]:gaps_idn[1,g+1]], go, ge, tempr, pre)\n",
    "                    \n",
    "                else:\n",
    "                    P[gaps_idn[0,g]:gaps_idn[0,g+1],gaps_idn[1,g]:gaps_idn[1,g+1]] = fb_global(S[gaps_idn[0,g]:gaps_idn[0,g+1],gaps_idn[1,g]:gaps_idn[1,g+1]], go, ge, tempr, pre)\n",
    "                    \n",
    "\n",
    "            m = np.max(P)\n",
    "            if m <= min_m:\n",
    "                break\n",
    "            A_new = np.argwhere(P >= np.max([m - red_m, min_m]))\n",
    "            A_all = np.vstack((A_all, A_new))\n",
    "            A_all = np.sort(A_all, axis = 0)\n",
    "            #num_all -= 1\n",
    "            #tempr = np.max([tempr-red_t, 1])\n",
    "        #S[A_all[:,0], A_all[:,1]] = 1e2\n",
    "        S_all.append(np.copy(S))\n",
    "        ap_all.append(np.copy(A_all))\n",
    "    return S_all, ap_all"
   ]
  },
  {
   "cell_type": "code",
   "execution_count": 19,
   "id": "214046f3",
   "metadata": {},
   "outputs": [],
   "source": [
    "class lol_alignment():\n",
    "    def __init__(self, sa_fb_go=-3, sa_fb_ge=-2, sa_temp = 1, le = 3,\n",
    "                 lol_go=-3, lol_ge=0, lol_min_m=0.4,  lol_red_t = 0, lol_temp=2):\n",
    "        self.sa_fb_go = sa_fb_go\n",
    "        self.sa_fb_ge = sa_fb_ge\n",
    "        self.sa_temp = sa_temp\n",
    "        self.le = le\n",
    "        self.lol_go = lol_go\n",
    "        self.lol_ge = lol_ge \n",
    "        self.lol_min_m = lol_min_m\n",
    "        self.lol_red_m = 0.1\n",
    "        self.lol_red_t = lol_red_t\n",
    "        self.lol_temp = lol_temp\n",
    "        self.rescale_score = {}\n",
    "        self.di_score = {}\n",
    "        self.alignments = {}\n",
    "        self.lol_mat = {}\n",
    "\n",
    "    def fit(self, querys, targets,*kwargs):\n",
    "        for query,target in (zip(querys, targets)):\n",
    "            coords1,_ = sid2coords.get(query)\n",
    "            coords2,_ = sid2coords.get(target)\n",
    "            coords1 = coords1[:,:3]\n",
    "            coords2 = coords2[:,:3]\n",
    "            d_mat_ij = distances(coords1, coords1)\n",
    "            d_mat_ij[d_mat_ij > 15] = 0\n",
    "            d_mat_kl = distances(coords2, coords2)\n",
    "            d_mat_ij = np.asarray(d_mat_ij)\n",
    "            d_mat_kl = np.asarray(d_mat_kl)\n",
    "            aa1 = sid2seq_aa[query]\n",
    "            aa2 = sid2seq_aa[target]\n",
    "            ss1 = sid2seq_ss[query]\n",
    "            ss2 = sid2seq_ss[target]\n",
    "            S = calcS_np(ss1, ss2, aa1, aa2, mat3di, blosum)\n",
    "            st = time.time()\n",
    "            startAnchors = calc_startAnchors(np.copy(S), self.sa_fb_go, self.sa_fb_ge, self.sa_temp, self.le)\n",
    "            S_lols, aps = align(S, startAnchors, self.lol_go, self.lol_ge, self.lol_min_m,\n",
    "                                                    self.lol_red_m, self.lol_temp, self.lol_red_t, d_mat_ij, d_mat_kl)\n",
    "            #self.alignments[query+\"_\"+target] = align(S, startAnchors, self.lol_go, self.lol_ge, self.lol_min_m,\n",
    "            #                                       self.lol_red_m, self.lol_temp, self.lol_red_t, d_mat_ij, d_mat_kl)\n",
    "            rescale_scores = []\n",
    "            di_scores = []\n",
    "            #print(time.time() - st, S.shape[0], S.shape[1])\n",
    "            for i in range(10):\n",
    "                self.alignments[query+\"_\"+target+'_'+str(i)] = aps[i]\n",
    "                self.lol_mat[query+\"_\"+target+'_'+str(i)] = S_lols[i]\n",
    "                S_lol, ap = S_lols[i], aps[i]\n",
    "                rescale_scores.append(((S+S_lol) * fb_local(S +S_lol, -3.5, -.3, 2, np.longdouble)).sum() / np.sqrt(S.shape[0]*S.shape[1]))\n",
    "                di_scores.append(((S+S_lol) * fb_local(S + S_lol, -30, -10, 15, np.longdouble)).sum())\n",
    "            print(di_scores, rescale_scores)\n",
    "            self.rescale_score[query+\"_\"+target] = np.max(rescale_scores)\n",
    "            self.di_score[query+\"_\"+target] = np.max(di_scores)\n",
    "            #print(time.time() - st, S.shape[0], S.shape[1])"
   ]
  },
  {
   "cell_type": "code",
   "execution_count": 111,
   "id": "17cdc411",
   "metadata": {},
   "outputs": [
    {
     "name": "stdout",
     "output_type": "stream",
     "text": [
      "[1259.0802242431810243, 295.21771121882352762, 793.91705935072958467, 864.0851805933194563, 194.69106435585176199, 838.47258382892129447, 233.51481454762281537, 151.201189913936422, 236.20206338723784173, 75.552055531174642684] [7.889273794933671806, 5.1160711385070355597, 7.2327289201227712603, 6.7985467472874471545, 4.9582000125697117824, 6.4458175702718728596, 5.094541232009961561, 4.726200440468500471, 5.053088686337929101, 4.0866091063197351]\n"
     ]
    }
   ],
   "source": [
    "query, target = \"d2b6ca1\", \"d1hzfa_\"\n",
    "test_align = lol_alignment()\n",
    "test_align.fit([query],[target])\n",
    "\n"
   ]
  },
  {
   "cell_type": "code",
   "execution_count": 112,
   "id": "56be7774",
   "metadata": {},
   "outputs": [
    {
     "data": {
      "text/plain": [
       "1259.0802242431810243"
      ]
     },
     "execution_count": 112,
     "metadata": {},
     "output_type": "execute_result"
    }
   ],
   "source": [
    "test_align.di_score[query+\"_\"+target]"
   ]
  },
  {
   "cell_type": "code",
   "execution_count": 113,
   "id": "dc89e832",
   "metadata": {},
   "outputs": [],
   "source": [
    "num = 0\n",
    "al = test_align.alignments[query+\"_\"+target+'_'+str(num)]\n",
    "S_lol = test_align.lol_mat[query+\"_\"+target+'_'+str(num)]\n",
    "P = np.zeros_like(S_lol)"
   ]
  },
  {
   "cell_type": "code",
   "execution_count": 114,
   "id": "8b691704",
   "metadata": {},
   "outputs": [],
   "source": [
    "P[al[:,0], al[:,1]] = 1"
   ]
  },
  {
   "cell_type": "code",
   "execution_count": 115,
   "id": "1001487b",
   "metadata": {},
   "outputs": [],
   "source": [
    "aligned_seq1, aligned_seq2 = prep_pymol(P)\n",
    "example_alignment_lol = {'query': query,\n",
    "                     'target': target,\n",
    "                     'qstart': 0,\n",
    "                     'tstart': 0,\n",
    "                     'taln': aligned_seq1,\n",
    "                     'qaln': aligned_seq2}\n",
    "show_aln(pdb_dir='/home/lasse/Desktop/structure_align_project/data/pdbc/', aln=example_alignment_lol)"
   ]
  },
  {
   "cell_type": "code",
   "execution_count": 116,
   "id": "419270d3",
   "metadata": {},
   "outputs": [
    {
     "data": {
      "text/plain": [
       "<matplotlib.image.AxesImage at 0x7446bd7e9810>"
      ]
     },
     "execution_count": 116,
     "metadata": {},
     "output_type": "execute_result"
    },
    {
     "data": {
      "image/png": "[encoded data removed]",
      "text/plain": [
       "<Figure size 640x480 with 1 Axes>"
      ]
     },
     "metadata": {},
     "output_type": "display_data"
    }
   ],
   "source": [
    "plt.imshow(P)"
   ]
  },
  {
   "cell_type": "code",
   "execution_count": 108,
   "id": "25390543",
   "metadata": {},
   "outputs": [],
   "source": [
    "P = np.zeros_like(S_lol)\n",
    "p = fb_local(S_lol, -30, -10, 15, np.longdouble)\n",
    "P[p >= .5] = 1"
   ]
  },
  {
   "cell_type": "code",
   "execution_count": 109,
   "id": "023ce1bc",
   "metadata": {},
   "outputs": [],
   "source": [
    "aligned_seq1, aligned_seq2 = prep_pymol(P)\n",
    "example_alignment_lol = {'query': query,\n",
    "                     'target': target,\n",
    "                     'qstart': 0,\n",
    "                     'tstart': 0,\n",
    "                     'taln': aligned_seq1,\n",
    "                     'qaln': aligned_seq2}\n",
    "show_aln(pdb_dir='/home/lasse/Desktop/structure_align_project/data/pdbc/', aln=example_alignment_lol)"
   ]
  },
  {
   "cell_type": "code",
   "execution_count": 110,
   "id": "9bfa4f53",
   "metadata": {},
   "outputs": [
    {
     "data": {
      "text/plain": [
       "<matplotlib.image.AxesImage at 0x7446bd7b0190>"
      ]
     },
     "execution_count": 110,
     "metadata": {},
     "output_type": "execute_result"
    },
    {
     "data": {
      "image/png": "[encoded data removed]",
      "text/plain": [
       "<Figure size 640x480 with 1 Axes>"
      ]
     },
     "metadata": {},
     "output_type": "display_data"
    }
   ],
   "source": [
    "plt.imshow(fb_local(S_lol, -30, -10, 15, np.longdouble))"
   ]
  },
  {
   "cell_type": "code",
   "execution_count": 64,
   "id": "742fe9a5",
   "metadata": {},
   "outputs": [
    {
     "data": {
      "text/plain": [
       "<matplotlib.image.AxesImage at 0x7446bdb0b650>"
      ]
     },
     "execution_count": 64,
     "metadata": {},
     "output_type": "execute_result"
    },
    {
     "data": {
      "image/png": "[encoded data removed]",
      "text/plain": [
       "<Figure size 640x480 with 1 Axes>"
      ]
     },
     "metadata": {},
     "output_type": "display_data"
    }
   ],
   "source": [
    "plt.imshow(P)"
   ]
  },
  {
   "cell_type": "code",
   "execution_count": 731,
   "id": "17e01a48",
   "metadata": {},
   "outputs": [
    {
     "data": {
      "text/plain": [
       "<matplotlib.image.AxesImage at 0x75b20037ded0>"
      ]
     },
     "execution_count": 731,
     "metadata": {},
     "output_type": "execute_result"
    },
    {
     "data": {
      "image/png": "[encoded data removed]",
      "text/plain": [
       "<Figure size 640x480 with 1 Axes>"
      ]
     },
     "metadata": {},
     "output_type": "display_data"
    }
   ],
   "source": [
    "plt.imshow(S_lol)"
   ]
  },
  {
   "cell_type": "code",
   "execution_count": 73,
   "id": "10a93b67",
   "metadata": {},
   "outputs": [],
   "source": [
    "S_lol[fb_local(S_lol, -30, -10, 15, np.longdouble) < 0.1] = 0"
   ]
  },
  {
   "cell_type": "code",
   "execution_count": 75,
   "id": "066ce240",
   "metadata": {},
   "outputs": [
    {
     "data": {
      "text/plain": [
       "2525.2194873563730904"
      ]
     },
     "execution_count": 75,
     "metadata": {},
     "output_type": "execute_result"
    }
   ],
   "source": [
    "(S_lol*fb_local(S_lol, -30, -10, 15, np.longdouble)).sum()"
   ]
  },
  {
   "cell_type": "code",
   "execution_count": null,
   "id": "8cffbef2",
   "metadata": {},
   "outputs": [],
   "source": []
  }
 ],
 "metadata": {
  "kernelspec": {
   "display_name": "Python 3 (ipykernel)",
   "language": "python",
   "name": "python3"
  },
  "language_info": {
   "codemirror_mode": {
    "name": "ipython",
    "version": 3
   },
   "file_extension": ".py",
   "mimetype": "text/x-python",
   "name": "python",
   "nbconvert_exporter": "python",
   "pygments_lexer": "ipython3",
   "version": "3.11.3"
  }
 },
 "nbformat": 4,
 "nbformat_minor": 5
}
