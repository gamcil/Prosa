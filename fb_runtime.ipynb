{
 "cells": [
  {
   "cell_type": "code",
   "execution_count": 1,
   "id": "54955ebb",
   "metadata": {},
   "outputs": [],
   "source": [
    "import numpy as np\n",
    "import matplotlib.pyplot as plt\n",
    "import os.path\n",
    "from scipy.spatial.distance import cdist\n",
    "import time\n",
    "from tqdm import tqdm\n",
    "%load_ext autoreload\n",
    "%autoreload 1\n",
    "#%aimport __pycache__.lddt.cpython-39\n",
    "%aimport sautils.encoder_commons\n",
    "%aimport sautils.common\n",
    "%aimport torch\n",
    "import pandas as pd\n",
    "import numba\n",
    "from skopt import dump, load"
   ]
  },
  {
   "cell_type": "code",
   "execution_count": 79,
   "id": "d8d3ec69",
   "metadata": {},
   "outputs": [],
   "source": [
    "\n",
    "def fb_local(S, go, ge, T, pre):\n",
    "    S_exp = np.exp(S/T, dtype = pre)\n",
    "    S_hat = S_exp[::-1,::-1]\n",
    "    vj = np.exp(np.linspace((S.shape[1]-1)*ge + go, go, S.shape[1], dtype = pre)/T, dtype = pre)\n",
    "    wj = np.exp(np.linspace((S.shape[1]-1)*ge , 0, S.shape[1], dtype = pre) /T, dtype = pre)\n",
    "    zm = forward_backward_plain_local(S_exp, vj, wj, T, go, ge, pre)\n",
    "    zm_hat = forward_backward_plain_local(S_hat, vj, wj, T, go, ge, pre)\n",
    "    P = ((zm*(zm_hat[::-1,::-1]))/(1 + np.sum(zm))) * np.exp(-S/T, dtype = pre)\n",
    "    return P\n",
    "\n",
    "#@numba.jit\n",
    "def forward_backward_plain_local(S, vj, wj, T, go, ge, pre):\n",
    "    exp_go = np.exp(go/T)\n",
    "    exp_ge = np.exp(ge/T)\n",
    "    zm = np.zeros((S.shape[0]+1, S.shape[1]+1), dtype = pre)\n",
    "    ze = np.zeros((S.shape[0]+1, S.shape[1]+1), dtype = pre)\n",
    "    zf = np.zeros((S.shape[0]+1, S.shape[1]+1), dtype = pre)\n",
    "    \n",
    "    #This is the main part where we calculate the Z matrices with one for loop over each row\n",
    "    for i in range(1,S.shape[0]+1):\n",
    "        zm[i,1:] = ((zm[i-1,:-1] + ze[i-1,:-1] + zf[i-1,:-1] + 1) *S[i-1,:])\n",
    "        # this is the new part where ze is calculated using cumsum \n",
    "        ze[i,1:] = (np.cumsum(zm[i,:-1] * vj)/wj) \n",
    "        zf[i,1:] = (zm[i-1,1:] * exp_go + zf[i-1,1:] * exp_ge)\n",
    "    #at the end we only need to return zm but for testing i returned all\n",
    "    return zm[1:,1:]\n"
   ]
  },
  {
   "cell_type": "code",
   "execution_count": 67,
   "id": "ad8d1d6a",
   "metadata": {},
   "outputs": [],
   "source": [
    "\n",
    "def fb_local_nonvec(S, go, ge, T, pre):\n",
    "    S_exp = np.exp(S/T, dtype = pre)\n",
    "    S_hat = S_exp[::-1,::-1]\n",
    "    #vj = np.exp(np.linspace((S.shape[1]-1)*ge + go, go, S.shape[1], dtype = pre)/T, dtype = pre)\n",
    "    #wj = np.exp(np.linspace((S.shape[1]-1)*ge , 0, S.shape[1], dtype = pre) /T, dtype = pre)\n",
    "    zm = forward_backward_nonvec_local(S_exp, T, go, ge, pre)\n",
    "    zm_hat = forward_backward_nonvec_local(S_hat, T, go, ge, pre)\n",
    "    P = ((zm*(zm_hat[::-1,::-1]))/(1 + np.sum(zm))) * np.exp(-S/T, dtype = pre)\n",
    "    return P\n",
    "\n",
    "@numba.jit\n",
    "def forward_backward_nonvec_local(S, T, go, ge, pre):\n",
    "    exp_go = np.exp(go/T)\n",
    "    exp_ge = np.exp(ge/T)\n",
    "    zm = np.zeros((S.shape[0]+1, S.shape[1]+1), dtype = pre)\n",
    "    ze = np.zeros((S.shape[0]+1, S.shape[1]+1), dtype = pre)\n",
    "    zf = np.zeros((S.shape[0]+1, S.shape[1]+1), dtype = pre)\n",
    "    \n",
    "    #This is the main part where we calculate the Z matrices with one for loop over each row\n",
    "    for i in range(1,S.shape[0]+1):\n",
    "        zm[i,1:] = ((zm[i-1,:-1] + ze[i-1,:-1] + zf[i-1,:-1] + 1) *S[i-1,:])\n",
    "        # this is the new part where ze is calculated using cumsum\n",
    "        for j in range(1,S.shape[1]+1):\n",
    "            ze[i,j] = ze[i,j-1] * exp_go + zm[i,j-1] * exp_ge\n",
    "        zf[i,1:] = (zm[i-1,1:] * exp_go + zf[i-1,1:] * exp_ge)\n",
    "    #at the end we only need to return zm but for testing i returned all\n",
    "    return zm[1:,1:]"
   ]
  },
  {
   "cell_type": "code",
   "execution_count": 68,
   "id": "c94d3609",
   "metadata": {},
   "outputs": [
    {
     "name": "stdout",
     "output_type": "stream",
     "text": [
      "50\n",
      "100\n",
      "150\n",
      "200\n",
      "250\n",
      "300\n",
      "350\n",
      "400\n",
      "450\n",
      "500\n",
      "550\n",
      "600\n",
      "650\n",
      "700\n",
      "750\n",
      "800\n",
      "850\n",
      "900\n",
      "950\n",
      "1000\n",
      "1050\n",
      "1100\n",
      "1150\n",
      "1200\n",
      "1250\n",
      "1300\n",
      "1350\n",
      "1400\n",
      "1450\n",
      "1500\n"
     ]
    }
   ],
   "source": [
    "time_nonvec_jit = []\n",
    "for size in (range(50, 1501, 50)):\n",
    "    print(size)\n",
    "    S = np.zeros((size,size))-100#(np.random.rand(size,size) - 0.5)\n",
    "    go, ge = 0,0\n",
    "    T = 10\n",
    "    pre = np.float64\n",
    "    fb_local_nonvec(S, go, ge, T, pre)\n",
    "    start = time.time()\n",
    "    for i in range(50):\n",
    "        fb_local_nonvec(S, go, ge, T, pre)\n",
    "    time_nonvec_jit.append((time.time() - start)/50)"
   ]
  },
  {
   "cell_type": "code",
   "execution_count": 69,
   "id": "292f0443",
   "metadata": {},
   "outputs": [
    {
     "name": "stdout",
     "output_type": "stream",
     "text": [
      "50\n",
      "100\n",
      "150\n",
      "200\n",
      "250\n",
      "300\n",
      "350\n",
      "400\n",
      "450\n",
      "500\n",
      "550\n",
      "600\n",
      "650\n",
      "700\n",
      "750\n",
      "800\n",
      "850\n",
      "900\n",
      "950\n",
      "1000\n",
      "1050\n",
      "1100\n",
      "1150\n",
      "1200\n",
      "1250\n",
      "1300\n",
      "1350\n",
      "1400\n",
      "1450\n",
      "1500\n"
     ]
    }
   ],
   "source": [
    "time_vec_jit = []\n",
    "for size in (range(50, 1501, 50)):\n",
    "    print(size)\n",
    "    S = np.zeros((size,size))-100#(np.random.rand(size,size) - 0.5)/10\n",
    "    go, ge = 0, 0.0001\n",
    "    T = 10\n",
    "    pre = np.float64\n",
    "    fb_local(S, go, ge, T, pre)\n",
    "    start = time.time()\n",
    "    for i in range(50):\n",
    "        fb_local(S, go, ge, T, pre)\n",
    "    time_vec_jit.append((time.time() - start)/50)"
   ]
  },
  {
   "cell_type": "code",
   "execution_count": 80,
   "id": "4f786ac6",
   "metadata": {},
   "outputs": [
    {
     "name": "stdout",
     "output_type": "stream",
     "text": [
      "50\n",
      "100\n",
      "150\n",
      "200\n",
      "250\n",
      "300\n",
      "350\n",
      "400\n",
      "450\n",
      "500\n"
     ]
    }
   ],
   "source": [
    "time_vec = []\n",
    "for size in (range(50, 501, 50)):\n",
    "    print(size)\n",
    "    S = np.random.rand(size,size)\n",
    "    go, ge= .1, 0.01\n",
    "    T = 10\n",
    "    pre = np.float64\n",
    "    start = time.time()\n",
    "    for i in range(50):\n",
    "        fb_local(S, go, ge, T, pre)\n",
    "    time_vec.append((time.time() - start)/50)"
   ]
  },
  {
   "cell_type": "code",
   "execution_count": 78,
   "id": "08611784",
   "metadata": {},
   "outputs": [
    {
     "data": {
      "text/plain": [
       "[0.002282099723815918,\n",
       " 0.0029530715942382812,\n",
       " 0.00525146484375,\n",
       " 0.006733784675598145,\n",
       " 0.009105782508850097,\n",
       " 0.010848722457885741,\n",
       " 0.013687338829040527,\n",
       " 0.016579885482788086,\n",
       " 0.019670076370239258,\n",
       " 0.023295326232910155,\n",
       " 0.029088292121887207,\n",
       " 0.03527926921844483,\n",
       " 0.04103107452392578,\n",
       " 0.047587070465087894,\n",
       " 0.052940931320190426,\n",
       " 0.0611568546295166,\n",
       " 0.06612881183624268,\n",
       " 0.07412365913391113,\n",
       " 0.08017217636108398,\n",
       " 0.0895619535446167,\n",
       " 0.09104870319366455,\n",
       " 0.1023246717453003,\n",
       " 0.13394464492797853,\n",
       " 0.14289687633514403,\n",
       " 0.14606552600860595,\n",
       " 0.16208669185638427,\n",
       " 0.16846951961517334,\n",
       " 0.17842700481414794,\n",
       " 0.192643723487854,\n",
       " 0.20332088947296142]"
      ]
     },
     "execution_count": 78,
     "metadata": {},
     "output_type": "execute_result"
    }
   ],
   "source": [
    "time_vec"
   ]
  },
  {
   "cell_type": "code",
   "execution_count": 81,
   "id": "171c32ba",
   "metadata": {},
   "outputs": [
    {
     "data": {
      "text/plain": [
       "<matplotlib.legend.Legend at 0x79f1f0713790>"
      ]
     },
     "execution_count": 81,
     "metadata": {},
     "output_type": "execute_result"
    },
    {
     "data": {
      "image/png": "[encoded data removed]",
      "text/plain": [
       "<Figure size 640x480 with 1 Axes>"
      ]
     },
     "metadata": {},
     "output_type": "display_data"
    }
   ],
   "source": [
    "plt.plot(range(50, 501, 50), time_vec, label = 'Vectorized Forward-Backward')\n",
    "plt.plot(range(50, 501, 50), time_nonvec, label = 'Forward-Backward')\n",
    "plt.plot(range(50, 501, 50), time_ssw, label = 'Smoth Smith-Warerman')\n",
    "plt.title('Benchmark with JIT')\n",
    "plt.xlabel('Size of S')\n",
    "plt.ylabel('Average Time in seconds')\n",
    "plt.legend()"
   ]
  },
  {
   "cell_type": "code",
   "execution_count": 73,
   "id": "ae403f40",
   "metadata": {},
   "outputs": [
    {
     "data": {
      "text/plain": [
       "<matplotlib.legend.Legend at 0x79f1f8097bd0>"
      ]
     },
     "execution_count": 73,
     "metadata": {},
     "output_type": "execute_result"
    },
    {
     "data": {
      "image/png": "[encoded data removed]",
      "text/plain": [
       "<Figure size 640x480 with 1 Axes>"
      ]
     },
     "metadata": {},
     "output_type": "display_data"
    }
   ],
   "source": [
    "plt.plot(range(50, 1501, 50), time_vec_jit, label = 'Vectorized Forward-Backward')\n",
    "plt.plot(range(50, 1501, 50), time_nonvec_jit, label = 'Forward-Backward')\n",
    "#plt.plot(range(50, 501, 50), time_ssw, label = 'ssw')\n",
    "plt.plot(range(50, 1501, 50), time_ssw_jit, label = 'Smoth Smith-Warerman')\n",
    "#plt.plot(range(50, 501, 50), time_ssw_jit, label = 'ssw_jit')\n",
    "plt.title('Benchmark with JIT')\n",
    "plt.xlabel('Size of S')\n",
    "plt.ylabel('Average Time in seconds')\n",
    "plt.legend()"
   ]
  },
  {
   "cell_type": "code",
   "execution_count": null,
   "id": "6ac598e7",
   "metadata": {},
   "outputs": [],
   "source": []
  },
  {
   "cell_type": "code",
   "execution_count": 7,
   "id": "3e8ceab2",
   "metadata": {},
   "outputs": [],
   "source": [
    "import jax\n",
    "import jax.numpy as jnp\n",
    "\n",
    "def sw_affine(restrict_turns=True, \n",
    "             penalize_turns=True,\n",
    "             batch=True, unroll=2, NINF=-1e30):\n",
    "    \"\"\"smith-waterman (local alignment) with affine gap\"\"\"\n",
    "    # rotate matrix for vectorized dynamic-programming  \n",
    "\n",
    "    def rotate(x):   \n",
    "        # solution from jake vanderplas (thanks!)\n",
    "        a,b = x.shape\n",
    "        ar,br = jnp.arange(a)[::-1,None], jnp.arange(b)[None,:]\n",
    "        i,j = (br-ar)+(a-1),(ar+br)//2\n",
    "        n,m = (a+b-1),(a+b)//2\n",
    "        output = {\"x\":jnp.full([n,m],NINF).at[i,j].set(x), \"o\":(jnp.arange(n)+a%2)%2}\n",
    "        return output, (jnp.full((m,3), NINF), jnp.full((m,3), NINF)), (i,j)\n",
    "\n",
    "    # fill the scoring matrix\n",
    "    def sco(x, lengths, gap=0.0, open=0.0, temp=1.0):\n",
    "\n",
    "        def _soft_maximum(x, axis=None, mask=None):\n",
    "            def _logsumexp(y):\n",
    "                y = jnp.maximum(y,NINF)\n",
    "                if mask is None: return jax.nn.logsumexp(y, axis=axis)\n",
    "                else: return y.max(axis) + jnp.log(jnp.sum(mask * jnp.exp(y - y.max(axis, keepdims=True)), axis=axis))\n",
    "            return temp*_logsumexp(x/temp)\n",
    "\n",
    "        def _cond(cond, true, false):\n",
    "            return cond*true + (1-cond)*false\n",
    "        def _pad(x,shape):\n",
    "            return jnp.pad(x,shape,constant_values=(NINF,NINF))\n",
    "      \n",
    "        def _step(prev, sm):\n",
    "            h2,h1 = prev   # previous two rows of scoring (hij) mtxs\n",
    "\n",
    "            Align = jnp.pad(h2,[[0,0],[0,1]]) + sm[\"x\"][:,None]\n",
    "            Right = _cond(sm[\"o\"], _pad(h1[:-1],([1,0],[0,0])),h1)\n",
    "            Down  = _cond(sm[\"o\"], h1,_pad(h1[1:],([0,1],[0,0])))\n",
    "\n",
    "            # add gap penalty\n",
    "            if penalize_turns:\n",
    "                Right += jnp.stack([open,gap,open])\n",
    "                Down += jnp.stack([open,open,gap])\n",
    "            else:\n",
    "                gap_pen = jnp.stack([open,gap,gap])\n",
    "                Right += gap_pen\n",
    "                Down += gap_pen\n",
    "\n",
    "            if restrict_turns:\n",
    "                Right = Right[:,:2]\n",
    "\n",
    "            h0_Align = _soft_maximum(Align,-1)\n",
    "            h0_Right = _soft_maximum(Right,-1)\n",
    "            h0_Down = _soft_maximum(Down,-1)\n",
    "            h0 = jnp.stack([h0_Align, h0_Right, h0_Down], axis=-1)\n",
    "            return (h1,h0),h0\n",
    "\n",
    "        # mask\n",
    "        a,b = x.shape\n",
    "        real_a, real_b = lengths\n",
    "        mask = (jnp.arange(a) < real_a)[:,None] * (jnp.arange(b) < real_b)[None,:]\n",
    "        x = x + NINF * (1 - mask)\n",
    "\n",
    "        sm, prev, idx = rotate(x[:-1,:-1])\n",
    "        hij = jax.lax.scan(_step, prev, sm, unroll=unroll)[-1][idx]\n",
    "\n",
    "        # sink\n",
    "        return _soft_maximum(hij + x[1:,1:,None], mask=mask[1:,1:,None])\n",
    "\n",
    "    # traceback to get alignment (aka. get marginals)\n",
    "    traceback = jax.grad(sco)\n",
    "\n",
    "    # add batch dimension\n",
    "    if batch: return jax.vmap(traceback,(0,0,None,None,None))\n",
    "    else: return traceback, sco"
   ]
  },
  {
   "cell_type": "code",
   "execution_count": 9,
   "id": "788f0246",
   "metadata": {},
   "outputs": [
    {
     "ename": "TypeError",
     "evalue": "cannot unpack non-iterable int object",
     "output_type": "error",
     "traceback": [
      "\u001b[0;31m---------------------------------------------------------------------------\u001b[0m",
      "\u001b[0;31mTypeError\u001b[0m                                 Traceback (most recent call last)",
      "Cell \u001b[0;32mIn[9], line 6\u001b[0m\n\u001b[1;32m      3\u001b[0m true_len \u001b[38;5;241m=\u001b[39m (\u001b[38;5;241m50\u001b[39m, \u001b[38;5;241m50\u001b[39m)\n\u001b[1;32m      4\u001b[0m scores \u001b[38;5;241m=\u001b[39m np\u001b[38;5;241m.\u001b[39mrandom\u001b[38;5;241m.\u001b[39mrand(\u001b[38;5;241m*\u001b[39mtrue_len)  \u001b[38;5;66;03m# random similarity scores\u001b[39;00m\n\u001b[0;32m----> 6\u001b[0m P \u001b[38;5;241m=\u001b[39m sw_app(scores, size, gap\u001b[38;5;241m=\u001b[39m\u001b[38;5;241m-\u001b[39m\u001b[38;5;241m.1\u001b[39m, \u001b[38;5;28mopen\u001b[39m\u001b[38;5;241m=\u001b[39m\u001b[38;5;241m-\u001b[39m\u001b[38;5;241m1\u001b[39m, temp\u001b[38;5;241m=\u001b[39m\u001b[38;5;241m10.0\u001b[39m)\n",
      "    \u001b[0;31m[... skipping hidden 10 frame]\u001b[0m\n",
      "Cell \u001b[0;32mIn[7], line 61\u001b[0m, in \u001b[0;36msw_affine.<locals>.sco\u001b[0;34m(x, lengths, gap, open, temp)\u001b[0m\n\u001b[1;32m     59\u001b[0m \u001b[38;5;66;03m# mask\u001b[39;00m\n\u001b[1;32m     60\u001b[0m a,b \u001b[38;5;241m=\u001b[39m x\u001b[38;5;241m.\u001b[39mshape\n\u001b[0;32m---> 61\u001b[0m real_a, real_b \u001b[38;5;241m=\u001b[39m lengths\n\u001b[1;32m     62\u001b[0m mask \u001b[38;5;241m=\u001b[39m (jnp\u001b[38;5;241m.\u001b[39marange(a) \u001b[38;5;241m<\u001b[39m real_a)[:,\u001b[38;5;28;01mNone\u001b[39;00m] \u001b[38;5;241m*\u001b[39m (jnp\u001b[38;5;241m.\u001b[39marange(b) \u001b[38;5;241m<\u001b[39m real_b)[\u001b[38;5;28;01mNone\u001b[39;00m,:]\n\u001b[1;32m     63\u001b[0m x \u001b[38;5;241m=\u001b[39m x \u001b[38;5;241m+\u001b[39m NINF \u001b[38;5;241m*\u001b[39m (\u001b[38;5;241m1\u001b[39m \u001b[38;5;241m-\u001b[39m mask)\n",
      "\u001b[0;31mTypeError\u001b[0m: cannot unpack non-iterable int object"
     ]
    }
   ],
   "source": [
    "sw_app, _ = sw_affine(restrict_turns=False, batch=False)\n",
    "\n",
    "true_len = (50, 50)\n",
    "scores = np.random.rand(*true_len)  # random similarity scores\n",
    "\n",
    "P = sw_app(scores, size, gap=-.1, open=-1, temp=10.0)"
   ]
  },
  {
   "cell_type": "code",
   "execution_count": 10,
   "id": "11a4000a",
   "metadata": {},
   "outputs": [
    {
     "name": "stdout",
     "output_type": "stream",
     "text": [
      "50\n",
      "100\n",
      "150\n",
      "200\n",
      "250\n",
      "300\n",
      "350\n",
      "400\n",
      "450\n",
      "500\n"
     ]
    }
   ],
   "source": [
    "time_ssw=[]\n",
    "for size in (range(50, 501, 50)):\n",
    "    print(size)\n",
    "    length = (size,size)\n",
    "    S = np.random.rand(*length) -0.5\n",
    "    sw_app(scores, length, gap=-.1, open=-1, temp=10.0)\n",
    "    start = time.time()\n",
    "    for i in range(50):\n",
    "        sw_app(S, length, gap=-.1, open=-1, temp=10.0)\n",
    "    time_ssw.append((time.time() - start)/50)\n",
    "    "
   ]
  },
  {
   "cell_type": "code",
   "execution_count": 28,
   "id": "9e7421d3",
   "metadata": {},
   "outputs": [
    {
     "name": "stdout",
     "output_type": "stream",
     "text": [
      "50\n",
      "100\n",
      "150\n",
      "200\n",
      "250\n",
      "300\n",
      "350\n",
      "400\n",
      "450\n",
      "500\n",
      "550\n",
      "600\n",
      "650\n",
      "700\n",
      "750\n",
      "800\n",
      "850\n",
      "900\n",
      "950\n",
      "1000\n",
      "1050\n",
      "1100\n",
      "1150\n",
      "1200\n",
      "1250\n",
      "1300\n",
      "1350\n",
      "1400\n",
      "1450\n",
      "1500\n"
     ]
    }
   ],
   "source": [
    "time_ssw_jit=[]\n",
    "sw_app_jit = jax.jit(sw_app)\n",
    "for size in (range(50, 1501, 50)):\n",
    "    print(size)\n",
    "    length = (size,size)\n",
    "    S = np.random.rand(*length) -0.5\n",
    "    sw_app_jit(scores, length, gap=-.1, open=-1, temp=10.0)\n",
    "    start = time.time()\n",
    "    for i in range(50):\n",
    "        sw_app_jit(S, length, gap=-.1, open=-1, temp=10.0)\n",
    "    time_ssw_jit.append((time.time() - start)/50)"
   ]
  },
  {
   "cell_type": "code",
   "execution_count": null,
   "id": "b4629552",
   "metadata": {},
   "outputs": [],
   "source": []
  }
 ],
 "metadata": {
  "kernelspec": {
   "display_name": "Python 3 (ipykernel)",
   "language": "python",
   "name": "python3"
  },
  "language_info": {
   "codemirror_mode": {
    "name": "ipython",
    "version": 3
   },
   "file_extension": ".py",
   "mimetype": "text/x-python",
   "name": "python",
   "nbconvert_exporter": "python",
   "pygments_lexer": "ipython3",
   "version": "3.11.3"
  }
 },
 "nbformat": 4,
 "nbformat_minor": 5
}
